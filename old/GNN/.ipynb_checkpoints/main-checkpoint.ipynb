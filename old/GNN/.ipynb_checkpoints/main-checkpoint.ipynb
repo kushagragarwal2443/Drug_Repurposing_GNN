{
 "cells": [
  {
   "cell_type": "code",
   "execution_count": 1,
   "id": "b62ff751",
   "metadata": {},
   "outputs": [],
   "source": [
    "# import utility and layer files"
   ]
  },
  {
   "cell_type": "code",
   "execution_count": null,
   "id": "39bd8f6d",
   "metadata": {},
   "outputs": [],
   "source": [
    "MAX_EPOCH = 100\n",
    "\n",
    "# set training device\n",
    "device = torch.device(\"cuda:0\" if torch.cuda.is_available() else \"cpu\")\n",
    "\n",
    "settings = Setting(sp_rate=0.9, lr=0.01, prot_drug_dim=16, prot_dis_dim=16, n_embed=48, n_hid1=32, n_hid2=16, num_base=32)\n",
    "model = MyGAT(settings, device)\n",
    "\n",
    "# initial optimizer\n",
    "optimizer = torch.optim.Adam(model.parameters(), lr=settings.lr)\n",
    "\n",
    "# train model\n",
    "losses = []\n",
    "for e in range(MAX_EPOCH):\n",
    "    model.train()\n",
    "    optimizer.zero_grad()\n",
    "    loss = model()\n",
    "    print(loss.item())\n",
    "    losses.append(loss.item())\n",
    "    loss.backward()\n",
    "    optimizer.step()\n",
    "\n",
    "# evaluate on test set\n",
    "model.test()\n",
    "\n",
    "# save trained model\n",
    "torch.save(model, f'saved_model/gat_try1-{model.mod}-example.pt')"
   ]
  }
 ],
 "metadata": {
  "kernelspec": {
   "display_name": "Python 3 (ipykernel)",
   "language": "python",
   "name": "python3"
  },
  "language_info": {
   "codemirror_mode": {
    "name": "ipython",
    "version": 3
   },
   "file_extension": ".py",
   "mimetype": "text/x-python",
   "name": "python",
   "nbconvert_exporter": "python",
   "pygments_lexer": "ipython3",
   "version": "3.9.12"
  }
 },
 "nbformat": 4,
 "nbformat_minor": 5
}
