{
 "cells": [
  {
   "cell_type": "code",
   "execution_count": 2,
   "id": "2d901bf3",
   "metadata": {},
   "outputs": [],
   "source": [
    "import pickle\n",
    "import numpy as np\n",
    "import pandas as pd\n",
    "import scipy.sparse as sp"
   ]
  },
  {
   "cell_type": "code",
   "execution_count": 3,
   "id": "4ad131ee",
   "metadata": {},
   "outputs": [],
   "source": [
    "with open('../data/final_processed/final_data_dict.pkl', 'rb') as f:\n",
    "        data = pickle.load(f)"
   ]
  },
  {
   "cell_type": "code",
   "execution_count": 4,
   "id": "3c32df5a",
   "metadata": {},
   "outputs": [
    {
     "data": {
      "text/plain": [
       "dict_keys(['n_drug', 'n_prot', 'n_dis', 'd_feat', 'p_feat', 'dis_feat', 'dp_adj', 'pp_adj', 'dd_adj', 'disp_adj', 'n_drug_feat', 'd_norm', 'n_dis_feat', 'dis_norm', 'dp_edge_index', 'dp_range_list', 'disp_edge_index', 'disp_range_list', 'pp_edge_index', 'pp_range_list', 'dd_edge_index', 'dd_range_list', 'pp_train_indices', 'pp_test_indices'])"
      ]
     },
     "execution_count": 4,
     "metadata": {},
     "output_type": "execute_result"
    }
   ],
   "source": [
    "data.keys()"
   ]
  },
  {
   "cell_type": "code",
   "execution_count": 6,
   "id": "080864a7",
   "metadata": {},
   "outputs": [
    {
     "name": "stdout",
     "output_type": "stream",
     "text": [
      "torch.Size([6158, 6158])\n"
     ]
    }
   ],
   "source": [
    "print(data[\"d_feat\"].shape)"
   ]
  },
  {
   "cell_type": "code",
   "execution_count": 9,
   "id": "e18fe50d",
   "metadata": {},
   "outputs": [
    {
     "name": "stdout",
     "output_type": "stream",
     "text": [
      "6158\n"
     ]
    }
   ],
   "source": [
    "print(data[\"n_drug_feat\"])"
   ]
  },
  {
   "cell_type": "code",
   "execution_count": 11,
   "id": "cbd3d0e8",
   "metadata": {},
   "outputs": [
    {
     "name": "stdout",
     "output_type": "stream",
     "text": [
      "6158\n"
     ]
    }
   ],
   "source": [
    "print(data['d_feat'].shape[1])"
   ]
  },
  {
   "cell_type": "markdown",
   "id": "19d4ee75",
   "metadata": {},
   "source": [
    "## Preprocessed"
   ]
  },
  {
   "cell_type": "code",
   "execution_count": 4,
   "id": "8ffb7612",
   "metadata": {},
   "outputs": [],
   "source": [
    "path = \"../datasets/processed/\""
   ]
  },
  {
   "cell_type": "code",
   "execution_count": 5,
   "id": "6e69b40b",
   "metadata": {},
   "outputs": [],
   "source": [
    " with open(path + 'graph_info.pkl', 'rb') as f:\n",
    "        protein_num, drug_num, disease_num = pickle.load(f)"
   ]
  },
  {
   "cell_type": "code",
   "execution_count": 6,
   "id": "f4e6f647",
   "metadata": {},
   "outputs": [],
   "source": [
    "# ########################################\n",
    "# protein-protein\n",
    "# ########################################\n",
    "pp_adj = sp.load_npz(path + \"ppi-sparse-adj.npz\")"
   ]
  },
  {
   "cell_type": "code",
   "execution_count": 10,
   "id": "021bd52a",
   "metadata": {},
   "outputs": [
    {
     "data": {
      "text/plain": [
       "(18505, 18505)"
      ]
     },
     "execution_count": 10,
     "metadata": {},
     "output_type": "execute_result"
    }
   ],
   "source": [
    "pp_adj.shape"
   ]
  },
  {
   "cell_type": "code",
   "execution_count": 16,
   "id": "cc78c59e",
   "metadata": {},
   "outputs": [],
   "source": [
    "# ########################################\n",
    "# drug-protein\n",
    "# ########################################\n",
    "dp_adj = sp.load_npz(path + \"drug-protein-sparse-adj.npz\").tocsr()"
   ]
  },
  {
   "cell_type": "code",
   "execution_count": 17,
   "id": "eaf00bca",
   "metadata": {},
   "outputs": [
    {
     "data": {
      "text/plain": [
       "(6158, 18505)"
      ]
     },
     "execution_count": 17,
     "metadata": {},
     "output_type": "execute_result"
    }
   ],
   "source": [
    "dp_adj.shape"
   ]
  },
  {
   "cell_type": "code",
   "execution_count": 19,
   "id": "795c43ee",
   "metadata": {},
   "outputs": [],
   "source": [
    "# ########################################\n",
    "# disease-drug\n",
    "# ########################################\n",
    "dd_adj = sp.load_npz(path + \"disease-drug-sparse-adj.npz\").tocsr()"
   ]
  },
  {
   "cell_type": "code",
   "execution_count": 20,
   "id": "ffb50125",
   "metadata": {},
   "outputs": [
    {
     "data": {
      "text/plain": [
       "(5529, 6158)"
      ]
     },
     "execution_count": 20,
     "metadata": {},
     "output_type": "execute_result"
    }
   ],
   "source": [
    "dd_adj.shape"
   ]
  },
  {
   "cell_type": "code",
   "execution_count": 21,
   "id": "6a9e9597",
   "metadata": {},
   "outputs": [],
   "source": [
    "# ########################################\n",
    "# disease-protein\n",
    "# ########################################\n",
    "disp_adj = sp.load_npz(path + \"disease-prot-sparse-adj.npz\").tocsr()"
   ]
  },
  {
   "cell_type": "code",
   "execution_count": 22,
   "id": "f3540bab",
   "metadata": {},
   "outputs": [
    {
     "data": {
      "text/plain": [
       "(5529, 18505)"
      ]
     },
     "execution_count": 22,
     "metadata": {},
     "output_type": "execute_result"
    }
   ],
   "source": [
    "disp_adj.shape"
   ]
  }
 ],
 "metadata": {
  "kernelspec": {
   "display_name": "Python 3 (ipykernel)",
   "language": "python",
   "name": "python3"
  },
  "language_info": {
   "codemirror_mode": {
    "name": "ipython",
    "version": 3
   },
   "file_extension": ".py",
   "mimetype": "text/x-python",
   "name": "python",
   "nbconvert_exporter": "python",
   "pygments_lexer": "ipython3",
   "version": "3.9.12"
  }
 },
 "nbformat": 4,
 "nbformat_minor": 5
}
