{
 "cells": [
  {
   "cell_type": "code",
   "execution_count": 30,
   "id": "2d901bf3",
   "metadata": {},
   "outputs": [],
   "source": [
    "import pickle\n",
    "import numpy as np\n",
    "import pandas as pd\n",
    "import scipy.sparse as sp\n",
    "import torch\n",
    "import torch.sparse as tsp"
   ]
  },
  {
   "cell_type": "code",
   "execution_count": 31,
   "id": "23bb83a6",
   "metadata": {
    "scrolled": false
   },
   "outputs": [
    {
     "name": "stdout",
     "output_type": "stream",
     "text": [
      "disease-drug-sparse-adj.npz  final_data_dict.pkl  ppi-sparse-adj.npz\r\n",
      "disease-prot-sparse-adj.npz  graph_info.pkl\r\n",
      "drug-protein-sparse-adj.npz  index_map\r\n"
     ]
    }
   ],
   "source": [
    "!ls ../data/processed"
   ]
  },
  {
   "cell_type": "code",
   "execution_count": 32,
   "id": "8ffb7612",
   "metadata": {},
   "outputs": [],
   "source": [
    "path = \"../data/processed/\""
   ]
  },
  {
   "cell_type": "code",
   "execution_count": 33,
   "id": "6e69b40b",
   "metadata": {},
   "outputs": [],
   "source": [
    " with open(path + 'graph_info.pkl', 'rb') as f:\n",
    "        protein_num, drug_num, disease_num = pickle.load(f)"
   ]
  },
  {
   "cell_type": "code",
   "execution_count": 34,
   "id": "ae651add",
   "metadata": {},
   "outputs": [],
   "source": [
    "def remove_bidirection(edge_index, edge_type):\n",
    "    mask = edge_index[0] > edge_index[1]\n",
    "    keep_set = mask.nonzero().view(-1)\n",
    "\n",
    "    if edge_type is None:\n",
    "        return edge_index[:, keep_set]\n",
    "    else:\n",
    "        return edge_index[:, keep_set], edge_type[keep_set]\n",
    "\n",
    "\n",
    "def to_bidirection(edge_index, edge_type=None):\n",
    "    tmp = edge_index.clone()\n",
    "    tmp[0, :], tmp[1, :] = edge_index[1, :], edge_index[0, :]\n",
    "    if edge_type is None:\n",
    "        return torch.cat([edge_index, tmp], dim=1)\n",
    "    else:\n",
    "        return torch.cat([edge_index, tmp], dim=1), torch.cat([edge_type, edge_type])\n",
    "    \n",
    "def sparse_id(n):\n",
    "    idx = [[i for i in range(n)], [i for i in range(n)]]\n",
    "    val = [1 for i in range(n)]\n",
    "    i = torch.LongTensor(idx)\n",
    "    v = torch.FloatTensor(val)\n",
    "    shape = (n, n)\n",
    "\n",
    "    return torch.sparse.FloatTensor(i, v, torch.Size(shape))"
   ]
  },
  {
   "cell_type": "code",
   "execution_count": 35,
   "id": "f4e6f647",
   "metadata": {},
   "outputs": [
    {
     "data": {
      "text/plain": [
       "(18505, 18505)"
      ]
     },
     "execution_count": 35,
     "metadata": {},
     "output_type": "execute_result"
    }
   ],
   "source": [
    "# ########################################\n",
    "# protein-protein\n",
    "# ########################################\n",
    "pp_adj = sp.load_npz(path + \"ppi-sparse-adj.npz\")\n",
    "pp_adj.shape"
   ]
  },
  {
   "cell_type": "code",
   "execution_count": 36,
   "id": "cc78c59e",
   "metadata": {},
   "outputs": [
    {
     "data": {
      "text/plain": [
       "(6158, 18505)"
      ]
     },
     "execution_count": 36,
     "metadata": {},
     "output_type": "execute_result"
    }
   ],
   "source": [
    "# ########################################\n",
    "# drug-protein\n",
    "# ########################################\n",
    "dp_adj = sp.load_npz(path + \"drug-protein-sparse-adj.npz\").tocsr()\n",
    "\n",
    "dp_adj[np.where(dp_adj.toarray()>1)]=1\n",
    "            \n",
    "dp_adj.shape"
   ]
  },
  {
   "cell_type": "code",
   "execution_count": 37,
   "id": "795c43ee",
   "metadata": {},
   "outputs": [
    {
     "data": {
      "text/plain": [
       "(1448, 6158)"
      ]
     },
     "execution_count": 37,
     "metadata": {},
     "output_type": "execute_result"
    }
   ],
   "source": [
    "# ########################################\n",
    "# disease-drug\n",
    "# ########################################\n",
    "dd_adj = sp.load_npz(path + \"disease-drug-sparse-adj.npz\").tocsr()\n",
    "\n",
    "dd_adj[np.where(dd_adj.toarray()>1)]=1\n",
    "\n",
    "dd_adj.shape"
   ]
  },
  {
   "cell_type": "code",
   "execution_count": 38,
   "id": "6a9e9597",
   "metadata": {},
   "outputs": [
    {
     "data": {
      "text/plain": [
       "(1448, 18505)"
      ]
     },
     "execution_count": 38,
     "metadata": {},
     "output_type": "execute_result"
    }
   ],
   "source": [
    "# ########################################\n",
    "# disease-protein\n",
    "# ########################################\n",
    "disp_adj = sp.load_npz(path + \"disease-prot-sparse-adj.npz\").tocsr()\n",
    "\n",
    "disp_adj[np.where(disp_adj.toarray()>1)]=1\n",
    "\n",
    "disp_adj.shape"
   ]
  },
  {
   "cell_type": "code",
   "execution_count": 39,
   "id": "323f099b",
   "metadata": {},
   "outputs": [
    {
     "data": {
      "text/plain": [
       "332.0"
      ]
     },
     "execution_count": 39,
     "metadata": {},
     "output_type": "execute_result"
    }
   ],
   "source": [
    "np.sum(disp_adj.toarray()[1446,:])"
   ]
  },
  {
   "cell_type": "code",
   "execution_count": null,
   "id": "e2c9e715",
   "metadata": {},
   "outputs": [],
   "source": []
  },
  {
   "cell_type": "code",
   "execution_count": 40,
   "id": "3cb39339",
   "metadata": {},
   "outputs": [],
   "source": [
    "# ########################################\n",
    "# protein feature matrix\n",
    "# ########################################\n",
    "# protein_feat = sp.identity(protein_num)\n",
    "ind = torch.LongTensor([range(protein_num), range(protein_num)])\n",
    "val = torch.FloatTensor([1] * protein_num)\n",
    "protein_feat = torch.sparse.FloatTensor(ind, val,torch.Size([protein_num, protein_num]))"
   ]
  },
  {
   "cell_type": "code",
   "execution_count": 41,
   "id": "1400febf",
   "metadata": {},
   "outputs": [
    {
     "name": "stderr",
     "output_type": "stream",
     "text": [
      "/tmp/ipykernel_105999/4074169332.py:4: DeprecationWarning: `np.long` is a deprecated alias for `np.compat.long`. To silence this warning, use `np.compat.long` by itself. In the likely event your code does not need to work on Python 2 you can use the builtin `int` for which `np.compat.long` is itself an alias. Doing this will not modify any behaviour and is safe. When replacing `np.long`, you may wish to use e.g. `np.int64` or `np.int32` to specify the precision. If you wish to review your current use, check the release note link for additional information.\n",
      "Deprecated in NumPy 1.20; for more details and guidance: https://numpy.org/devdocs/release/1.20.0-notes.html#deprecations\n",
      "  row = np.array(range(drug_num), dtype=np.long)\n",
      "/tmp/ipykernel_105999/4074169332.py:5: DeprecationWarning: `np.long` is a deprecated alias for `np.compat.long`. To silence this warning, use `np.compat.long` by itself. In the likely event your code does not need to work on Python 2 you can use the builtin `int` for which `np.compat.long` is itself an alias. Doing this will not modify any behaviour and is safe. When replacing `np.long`, you may wish to use e.g. `np.int64` or `np.int32` to specify the precision. If you wish to review your current use, check the release note link for additional information.\n",
      "Deprecated in NumPy 1.20; for more details and guidance: https://numpy.org/devdocs/release/1.20.0-notes.html#deprecations\n",
      "  col = np.array(range(drug_num), dtype=np.long)\n"
     ]
    }
   ],
   "source": [
    "# ########################################\n",
    "# drug feature matrix\n",
    "# ########################################\n",
    "row = np.array(range(drug_num), dtype=np.long)\n",
    "col = np.array(range(drug_num), dtype=np.long)\n",
    "\n",
    "ind = torch.LongTensor([row, col])\n",
    "val = torch.FloatTensor([1] * len(row))\n",
    "\n",
    "drug_feat = torch.sparse.FloatTensor(ind, val,\n",
    "                                     torch.Size([drug_num, drug_num]))"
   ]
  },
  {
   "cell_type": "code",
   "execution_count": 42,
   "id": "6a59d701",
   "metadata": {},
   "outputs": [
    {
     "name": "stderr",
     "output_type": "stream",
     "text": [
      "/tmp/ipykernel_105999/3403446317.py:4: DeprecationWarning: `np.long` is a deprecated alias for `np.compat.long`. To silence this warning, use `np.compat.long` by itself. In the likely event your code does not need to work on Python 2 you can use the builtin `int` for which `np.compat.long` is itself an alias. Doing this will not modify any behaviour and is safe. When replacing `np.long`, you may wish to use e.g. `np.int64` or `np.int32` to specify the precision. If you wish to review your current use, check the release note link for additional information.\n",
      "Deprecated in NumPy 1.20; for more details and guidance: https://numpy.org/devdocs/release/1.20.0-notes.html#deprecations\n",
      "  row = np.array(range(disease_num), dtype=np.long)\n",
      "/tmp/ipykernel_105999/3403446317.py:5: DeprecationWarning: `np.long` is a deprecated alias for `np.compat.long`. To silence this warning, use `np.compat.long` by itself. In the likely event your code does not need to work on Python 2 you can use the builtin `int` for which `np.compat.long` is itself an alias. Doing this will not modify any behaviour and is safe. When replacing `np.long`, you may wish to use e.g. `np.int64` or `np.int32` to specify the precision. If you wish to review your current use, check the release note link for additional information.\n",
      "Deprecated in NumPy 1.20; for more details and guidance: https://numpy.org/devdocs/release/1.20.0-notes.html#deprecations\n",
      "  col = np.array(range(disease_num), dtype=np.long)\n"
     ]
    }
   ],
   "source": [
    "# ########################################\n",
    "# disease feature matrix\n",
    "# ########################################\n",
    "row = np.array(range(disease_num), dtype=np.long)\n",
    "col = np.array(range(disease_num), dtype=np.long)\n",
    "\n",
    "ind = torch.LongTensor([row, col])\n",
    "val = torch.FloatTensor([1] * len(row))\n",
    "\n",
    "disease_feat = torch.sparse.FloatTensor(ind, val,\n",
    "                                        torch.Size([disease_num, disease_num]))"
   ]
  },
  {
   "cell_type": "code",
   "execution_count": null,
   "id": "96b83851",
   "metadata": {},
   "outputs": [],
   "source": []
  },
  {
   "cell_type": "code",
   "execution_count": 43,
   "id": "e47588c7",
   "metadata": {},
   "outputs": [],
   "source": [
    "data = {'n_drug': drug_num,\n",
    "        'n_prot': protein_num,\n",
    "        'n_dis': disease_num,\n",
    "        'd_feat': drug_feat,\n",
    "        'p_feat': protein_feat,\n",
    "        'dis_feat': disease_feat,\n",
    "        'dp_adj': dp_adj.tocoo(),\n",
    "        'pp_adj': pp_adj.tocoo(),\n",
    "        'dd_adj': dd_adj.tocoo(),\n",
    "        'disp_adj': disp_adj.tocoo()}"
   ]
  },
  {
   "cell_type": "code",
   "execution_count": 44,
   "id": "c1a835e1",
   "metadata": {},
   "outputs": [],
   "source": [
    "data['d_feat'] = sparse_id(data['n_drug'])\n",
    "data['p_feat'] = sparse_id(data['n_prot'])\n",
    "data['dis_feat'] = sparse_id(data['n_dis'])\n",
    "\n",
    "data['n_drug_feat'] = data['d_feat'].shape[1]\n",
    "data['d_norm'] = torch.ones(data['n_drug_feat'])\n",
    "\n",
    "data['n_dis_feat'] = data['dis_feat'].shape[1]\n",
    "data['dis_norm'] = torch.ones(data['n_dis_feat'])"
   ]
  },
  {
   "cell_type": "code",
   "execution_count": null,
   "id": "e25d58e1",
   "metadata": {},
   "outputs": [],
   "source": []
  },
  {
   "cell_type": "code",
   "execution_count": 45,
   "id": "bb614648",
   "metadata": {},
   "outputs": [],
   "source": [
    "# ###################################\n",
    "# dp_edge_index and range index\n",
    "# ###################################\n",
    "\n",
    "data['dp_edge_index'] = np.array([data['dp_adj'].col-1, data['dp_adj'].row-1])\n",
    "# print(data['dp_edge_index'].shape)\n",
    "\n",
    "count_drug = np.zeros(data['n_drug'], dtype=np.int32)\n",
    "for i in data['dp_edge_index'][1, :]:\n",
    "    count_drug[i] += 1\n",
    "# print(count_drug)\n",
    "\n",
    "range_list = []\n",
    "start = 0\n",
    "end = data['n_drug']\n",
    "for i in count_drug:\n",
    "    end += i\n",
    "    range_list.append((start, end))\n",
    "    start = end\n",
    "    \n",
    "# print(range_list)\n",
    "\n",
    "data['dp_edge_index'] = torch.from_numpy(data['dp_edge_index'] + np.array([[0], [data['n_prot']]]))\n",
    "data['dp_range_list'] = torch.Tensor(range_list)"
   ]
  },
  {
   "cell_type": "code",
   "execution_count": 46,
   "id": "e600b3d9",
   "metadata": {},
   "outputs": [
    {
     "data": {
      "text/plain": [
       "tensor([[   56,   253,  2531,  ...,  2926,    49,  3000],\n",
       "        [18504, 18505, 18505,  ..., 24660, 24661, 24661]])"
      ]
     },
     "execution_count": 46,
     "metadata": {},
     "output_type": "execute_result"
    }
   ],
   "source": [
    "data['dp_edge_index']"
   ]
  },
  {
   "cell_type": "code",
   "execution_count": 47,
   "id": "0639cf86",
   "metadata": {},
   "outputs": [
    {
     "data": {
      "text/plain": [
       "tensor([[    0.,  6170.],\n",
       "        [ 6170.,  6173.],\n",
       "        [ 6173.,  6187.],\n",
       "        ...,\n",
       "        [28154., 28155.],\n",
       "        [28155., 28157.],\n",
       "        [28157., 28158.]])"
      ]
     },
     "execution_count": 47,
     "metadata": {},
     "output_type": "execute_result"
    }
   ],
   "source": [
    "data['dp_range_list']"
   ]
  },
  {
   "cell_type": "code",
   "execution_count": 48,
   "id": "14e12fa1",
   "metadata": {},
   "outputs": [],
   "source": [
    "# ###################################\n",
    "# disp_edge_index and range index\n",
    "# ###################################\n",
    "\n",
    "data['disp_edge_index'] = np.array([data['disp_adj'].col-1, data['disp_adj'].row-1])\n",
    "\n",
    "count_dis = np.zeros(data['n_dis'], dtype=np.int32)\n",
    "for i in data['disp_edge_index'][1, :]:\n",
    "    count_dis[i] += 1\n",
    "range_list = []\n",
    "start = 0\n",
    "end = 0\n",
    "for i in count_dis:\n",
    "    end += i\n",
    "    range_list.append((start, end))\n",
    "    start = end\n",
    "\n",
    "data['disp_edge_index'] = torch.from_numpy(data['disp_edge_index'] + np.array([[0], [data['n_prot']]]))\n",
    "data['disp_range_list'] = torch.Tensor(range_list)"
   ]
  },
  {
   "cell_type": "code",
   "execution_count": 49,
   "id": "f56ffb71",
   "metadata": {},
   "outputs": [
    {
     "data": {
      "text/plain": [
       "0"
      ]
     },
     "execution_count": 49,
     "metadata": {},
     "output_type": "execute_result"
    }
   ],
   "source": [
    "# # data['disp_edge_index'] = np.array([data['disp_adj'].col, data['disp_adj'].row])\n",
    "# data['disp_edge_index'] = torch.LongTensor(np.concatenate((data['disp_adj'].row.reshape(1, -1),\n",
    "#                                                            data['disp_adj'].col.reshape(1, -1)),\n",
    "#                                                           axis=0))\n",
    "list(data['disp_edge_index'][0]).count(1446)"
   ]
  },
  {
   "cell_type": "code",
   "execution_count": 50,
   "id": "0b0cec43",
   "metadata": {},
   "outputs": [
    {
     "data": {
      "text/plain": [
       "tensor([[    0.,   436.],\n",
       "        [  436.,   578.],\n",
       "        [  578.,   580.],\n",
       "        ...,\n",
       "        [29623., 29955.],\n",
       "        [29955., 29956.],\n",
       "        [29956., 29957.]])"
      ]
     },
     "execution_count": 50,
     "metadata": {},
     "output_type": "execute_result"
    }
   ],
   "source": [
    "data['disp_range_list']"
   ]
  },
  {
   "cell_type": "code",
   "execution_count": 51,
   "id": "7872d067",
   "metadata": {},
   "outputs": [],
   "source": [
    "# ###################################\n",
    "# pp_edge_index and range index\n",
    "# ###################################\n",
    "data['pp_edge_index'] = np.array([data['pp_adj'].col-1, data['pp_adj'].row-1])\n",
    "\n",
    "count_dis = np.zeros(data['n_prot'], dtype=np.int32)\n",
    "for i in data['pp_edge_index'][1, :]:\n",
    "    count_dis[i] += 1\n",
    "range_list = []\n",
    "start = 0\n",
    "end = 0\n",
    "for i in count_dis:\n",
    "    end += i\n",
    "    range_list.append((start, end))\n",
    "    start = end\n",
    "\n",
    "data['pp_edge_index'] = torch.from_numpy(data['pp_edge_index'] + np.array([[0], [data['n_prot']]]))\n",
    "data['pp_range_list'] = torch.Tensor(range_list)"
   ]
  },
  {
   "cell_type": "code",
   "execution_count": 52,
   "id": "81e7b37c",
   "metadata": {},
   "outputs": [],
   "source": [
    "# ###################################\n",
    "# drug disease_edge_index and range index\n",
    "# ###################################\n",
    "num = [0]\n",
    "edge_index_list = []\n",
    "edge_type_list = []\n",
    "\n",
    "adj = dd_adj.tocoo()\n",
    "edge_index_list.append(torch.tensor([adj.row, adj.col], dtype=torch.long))\n",
    "edge_type_list.append(torch.tensor([i] * adj.nnz, dtype=torch.long))\n",
    "num.append(num[-1] + adj.nnz)\n",
    "\n",
    "    # if i % 100 == 0:\n",
    "    #     print(i)\n",
    "\n",
    "# data['dd_edge_index'] = t.cat(edge_index_list, 1)\n",
    "# data['dd_edge_type'] = t.cat(edge_type_list, 0)\n",
    "data['dd_edge_index'] = edge_index_list[0]\n",
    "data['dd_edge_type'] = edge_type_list\n",
    "data['dd_edge_type_num'] = num\n",
    "data['dd_y_pos'] = torch.ones(num[-1])\n",
    "data['dd_y_neg'] = torch.zeros(num[-1])\n",
    "\n",
    "\n",
    "\n",
    "# data['dd_edge_index'] = np.array([data['dd_adj'].col-1, data['dd_adj'].row-1])\n",
    "\n",
    "# count_drug = np.zeros(data['n_drug'], dtype=np.int32)\n",
    "# for i in data['dd_edge_index'][1, :]:\n",
    "#     count_drug[i] += 1\n",
    "# range_list = []\n",
    "# start = 0\n",
    "# end = 0\n",
    "# for i in count_drug:\n",
    "#     end += ia['n_pro\n",
    "#     range_list.append((start, end))\n",
    "#     start = end\n",
    "\n",
    "# data['dd_edge_index'] = torch.from_numpy(data['dd_edge_index'] + np.array([[0], [data['n_prot']]]))\n",
    "# data['dd_range_list'] = torch.Tensor(range_list)"
   ]
  },
  {
   "cell_type": "code",
   "execution_count": 53,
   "id": "1b4e926f",
   "metadata": {},
   "outputs": [
    {
     "data": {
      "text/plain": [
       "195811"
      ]
     },
     "execution_count": 53,
     "metadata": {},
     "output_type": "execute_result"
    }
   ],
   "source": [
    "len(data['dd_edge_index'][0])"
   ]
  },
  {
   "cell_type": "code",
   "execution_count": 54,
   "id": "903781a1",
   "metadata": {},
   "outputs": [],
   "source": [
    "def process_prot_edge(pp_net):\n",
    "    indices = torch.LongTensor(np.concatenate((pp_net.col.reshape(1, -1),\n",
    "                                               pp_net.row.reshape(1, -1)),\n",
    "                                              axis=0))\n",
    "    indices = remove_bidirection(indices, None)\n",
    "    n_edge = indices.shape[1]\n",
    "\n",
    "    rd = np.random.binomial(1, 0.9, n_edge)\n",
    "    train_mask = rd.nonzero()[0]\n",
    "    test_mask = (1 - rd).nonzero()[0]\n",
    "\n",
    "    train_indices = indices[:, train_mask]\n",
    "    train_indices = to_bidirection(train_indices, None)\n",
    "\n",
    "    test_indices = indices[:, test_mask]\n",
    "    test_indices = to_bidirection(test_indices, None)\n",
    "\n",
    "    return train_indices, test_indices\n",
    "\n",
    "data['pp_train_indices'], data['pp_test_indices'] = process_prot_edge(data['pp_adj'])"
   ]
  },
  {
   "cell_type": "code",
   "execution_count": 55,
   "id": "ea9eeffb",
   "metadata": {},
   "outputs": [
    {
     "data": {
      "text/plain": [
       "dict_keys(['n_drug', 'n_prot', 'n_dis', 'd_feat', 'p_feat', 'dis_feat', 'dp_adj', 'pp_adj', 'dd_adj', 'disp_adj', 'n_drug_feat', 'd_norm', 'n_dis_feat', 'dis_norm', 'dp_edge_index', 'dp_range_list', 'disp_edge_index', 'disp_range_list', 'pp_edge_index', 'pp_range_list', 'dd_edge_index', 'dd_edge_type', 'dd_edge_type_num', 'dd_y_pos', 'dd_y_neg', 'pp_train_indices', 'pp_test_indices'])"
      ]
     },
     "execution_count": 55,
     "metadata": {},
     "output_type": "execute_result"
    }
   ],
   "source": [
    "data.keys()"
   ]
  },
  {
   "cell_type": "code",
   "execution_count": 56,
   "id": "9399ba0e",
   "metadata": {},
   "outputs": [],
   "source": [
    "file = path + 'final_data_dict.pkl'\n",
    "with open(file, 'wb') as f:   # the whole dataset\n",
    "    pickle.dump(data, f)"
   ]
  },
  {
   "cell_type": "code",
   "execution_count": 57,
   "id": "373d64d5",
   "metadata": {},
   "outputs": [],
   "source": [
    "file = path + 'final_data_dict.pkl'\n",
    "with open(file, 'rb') as f:   # the whole dataset\n",
    "    data = pickle.load(f)\n",
    "#     print(pickle.load(f))"
   ]
  },
  {
   "cell_type": "code",
   "execution_count": 58,
   "id": "3ce9c88f",
   "metadata": {},
   "outputs": [
    {
     "data": {
      "text/plain": [
       "dict_keys(['n_drug', 'n_prot', 'n_dis', 'd_feat', 'p_feat', 'dis_feat', 'dp_adj', 'pp_adj', 'dd_adj', 'disp_adj', 'n_drug_feat', 'd_norm', 'n_dis_feat', 'dis_norm', 'dp_edge_index', 'dp_range_list', 'disp_edge_index', 'disp_range_list', 'pp_edge_index', 'pp_range_list', 'dd_edge_index', 'dd_edge_type', 'dd_edge_type_num', 'dd_y_pos', 'dd_y_neg', 'pp_train_indices', 'pp_test_indices'])"
      ]
     },
     "execution_count": 58,
     "metadata": {},
     "output_type": "execute_result"
    }
   ],
   "source": [
    "data.keys()"
   ]
  },
  {
   "cell_type": "code",
   "execution_count": null,
   "id": "df2b352e",
   "metadata": {},
   "outputs": [],
   "source": [
    "def get_max(edge_index):\n",
    "    maxr=maxc=0\n",
    "\n",
    "    for i in range(len(edge_index)):\n",
    "\n",
    "        valr = edge_index[i][0]\n",
    "        valc = edge_index[i][1]\n",
    "\n",
    "        if(valr > maxr):\n",
    "            maxr = valr\n",
    "\n",
    "        if(valc > maxc):\n",
    "            maxc = valc\n",
    "\n",
    "    return (maxr, maxc)\n",
    "\n",
    "def get_max_t(edge_index):\n",
    "    edge_index = torch.t(edge_index)\n",
    "    maxr=maxc=0\n",
    "\n",
    "    for i in range(len(edge_index)):\n",
    "\n",
    "        valr = edge_index[i][0]\n",
    "        valc = edge_index[i][1]\n",
    "\n",
    "        if(valr > maxr):\n",
    "            maxr = valr\n",
    "\n",
    "        if(valc > maxc):\n",
    "            maxc = valc\n",
    "\n",
    "    return (maxr, maxc)\n",
    "\n",
    "def auprc_auroc_ap(target_tensor, score_tensor):\n",
    "    y = target_tensor.detach().cpu().numpy()\n",
    "    pred = score_tensor.detach().cpu().numpy()\n",
    "    auroc, ap = metrics.roc_auc_score(y, pred), metrics.average_precision_score(y, pred)\n",
    "    y, xx, _ = metrics.precision_recall_curve(y, pred)\n",
    "    auprc = metrics.auc(xx, y)\n",
    "\n",
    "    return auprc, auroc, ap\n",
    "\n",
    "def get_range_list(edge_list):\n",
    "    tmp = []\n",
    "    s = 0\n",
    "    for i in edge_list:\n",
    "        tmp.append((s, s + i.shape[1]))\n",
    "        s += i.shape[1]\n",
    "    return torch.tensor(tmp)\n",
    "\n",
    "def negative_sampling(pos_edge_index, num_nodes, num_dis):\n",
    "#     print(\"POS:\",pos_edge_index.shape)\n",
    "    idx = (pos_edge_index[0] * num_nodes + pos_edge_index[1])\n",
    "#     print(\"IDX:\",idx.shape)\n",
    "    idx = idx.to(torch.device('cpu'))\n",
    "\n",
    "    perm = torch.tensor(np.random.choice(num_nodes*num_dis, idx.size(0)))\n",
    "#     print(\"PERM:\", perm.shape)\n",
    "    mask = torch.from_numpy(np.isin(perm, idx).astype(np.uint8))\n",
    "#     print(\"MASK:\", mask.shape)\n",
    "    rest = mask.nonzero().view(-1)\n",
    "#     print(\"REST:\", rest.shape)\n",
    "    while rest.numel() > 0:  # pragma: no cover\n",
    "        tmp = torch.tensor(np.random.choice(num_nodes*num_dis, rest.size(0)))\n",
    "        mask = torch.from_numpy(np.isin(tmp, idx).astype(np.uint8))\n",
    "        perm[rest] = tmp\n",
    "        rest = mask.nonzero().view(-1)\n",
    "#     print(\"PERM:\", perm.shape)\n",
    "    row, col = perm / num_nodes, perm % num_nodes\n",
    "    returnable = torch.stack([row, col], dim=0).long().to(pos_edge_index.device)\n",
    "#     print(\"RETURNABLE:\", returnable.shape)\n",
    "    return returnable\n",
    "\n",
    "\n",
    "def typed_negative_sampling(pos_edge_index, num_nodes, num_dis, range_list):\n",
    "    tmp = []\n",
    "    for start, end in range_list:\n",
    "        tmp.append(negative_sampling(pos_edge_index[:, start: end], num_nodes, num_dis))\n",
    "        \n",
    "    value = torch.cat(tmp, dim=1)\n",
    "#     print(\"VALUE:\", value.shape)\n",
    "    return value\n"
   ]
  },
  {
   "cell_type": "code",
   "execution_count": null,
   "id": "760edc18",
   "metadata": {},
   "outputs": [],
   "source": [
    "typed_negative_sampling(v1, 6158, 5529, v3)"
   ]
  },
  {
   "cell_type": "code",
   "execution_count": null,
   "id": "248a0f1d",
   "metadata": {},
   "outputs": [],
   "source": [
    "def process_edges(raw_edge_list, p=0.9):\n",
    "    train_list = []\n",
    "    test_list = []\n",
    "    train_label_list = []\n",
    "    test_label_list = []\n",
    "\n",
    "#     for i, idx in enumerate(raw_edge_list):\n",
    "\n",
    "    train_mask = np.random.binomial(1, p, raw_edge_list.shape[1])\n",
    "    test_mask = 1 - train_mask\n",
    "    train_set = train_mask.nonzero()[0]\n",
    "    test_set = test_mask.nonzero()[0]\n",
    "\n",
    "    train_list.append(raw_edge_list[:, train_set])\n",
    "    test_list.append(raw_edge_list[:, test_set])\n",
    "\n",
    "    train_label_list.append(torch.ones(2 * train_set.size, dtype=torch.long))\n",
    "    test_label_list.append(torch.ones(2 * test_set.size, dtype=torch.long))\n",
    "\n",
    "#     train_list = [to_bidirection(idx) for idx in train_list]\n",
    "#     test_list = [to_bidirection(idx) for idx in test_list]\n",
    "\n",
    "    train_range = get_range_list(train_list)\n",
    "    test_range = get_range_list(test_list)\n",
    "\n",
    "    train_edge_idx = torch.cat(train_list, dim=1)\n",
    "    test_edge_idx = torch.cat(test_list, dim=1)\n",
    "\n",
    "    train_et = torch.cat(train_label_list)\n",
    "    test_et = torch.cat(test_label_list)\n",
    "    \n",
    "    print(\"train_edge_idx.shape\", train_edge_idx.shape)\n",
    "#     print(\"train_edge_idx\", train_edge_idx)\n",
    "    print(\"get_max(train_edge_idx)\", get_max_t(train_edge_idx))\n",
    "#     print(\"train_range\", train_range)\n",
    "    \n",
    "    print(\"\\n\\n\")\n",
    "    \n",
    "    print(\"test_edge_idx.shape\", test_edge_idx.shape)\n",
    "#     print(\"test_edge_idx\", test_edge_idx)\n",
    "    print(\"get_max(test_edge_idx)\", get_max_t(test_edge_idx))\n",
    "#     print(\"test_range\", test_range)\n",
    "\n",
    "    return train_edge_idx, train_et, train_range, test_edge_idx, test_et, test_range\n",
    "\n",
    "v1, v2, v3, v4, v5, v6 = process_edges(data['dd_edge_index'])"
   ]
  },
  {
   "cell_type": "code",
   "execution_count": null,
   "id": "7243e3f4",
   "metadata": {},
   "outputs": [],
   "source": [
    "v6"
   ]
  }
 ],
 "metadata": {
  "kernelspec": {
   "display_name": "Python 3 (ipykernel)",
   "language": "python",
   "name": "python3"
  },
  "language_info": {
   "codemirror_mode": {
    "name": "ipython",
    "version": 3
   },
   "file_extension": ".py",
   "mimetype": "text/x-python",
   "name": "python",
   "nbconvert_exporter": "python",
   "pygments_lexer": "ipython3",
   "version": "3.9.7"
  }
 },
 "nbformat": 4,
 "nbformat_minor": 5
}
