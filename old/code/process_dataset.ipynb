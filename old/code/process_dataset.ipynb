{
 "cells": [
  {
   "cell_type": "code",
   "execution_count": 82,
   "id": "646a108e",
   "metadata": {},
   "outputs": [],
   "source": [
    "import pickle\n",
    "import numpy as np\n",
    "import pandas as pd\n",
    "import scipy.sparse as sp"
   ]
  },
  {
   "cell_type": "code",
   "execution_count": 83,
   "id": "b2b7c3ac",
   "metadata": {},
   "outputs": [
    {
     "name": "stdout",
     "output_type": "stream",
     "text": [
      "bio-decagon-ppi.csv\t       Guney2016.tsv\r\n",
      "decagon_et.pkl\t\t       mesh_disease.csv\r\n",
      "disease-drug_preprocessed.csv  original_disease_drug.tsv\r\n",
      "disease-prot_preprocessed.csv  PPI.csv\r\n",
      "drug-gene.csv\t\t       ppi_preprocessed.csv\r\n",
      "drug-gene_preprocessed.csv     processed\r\n",
      "Guney16_preprocessed.csv       SARSprotein-Humanprotein.csv\r\n"
     ]
    }
   ],
   "source": [
    "!ls ../data"
   ]
  },
  {
   "cell_type": "code",
   "execution_count": 84,
   "id": "8c4c0793",
   "metadata": {},
   "outputs": [],
   "source": [
    "root_path = \"../data/\"\n",
    "save_path = \"../data/processed/\""
   ]
  },
  {
   "cell_type": "markdown",
   "id": "0d6582f0",
   "metadata": {},
   "source": [
    "### PPI"
   ]
  },
  {
   "cell_type": "code",
   "execution_count": 85,
   "id": "af5c8c66",
   "metadata": {},
   "outputs": [
    {
     "name": "stdout",
     "output_type": "stream",
     "text": [
      "(327924, 2)\n"
     ]
    },
    {
     "data": {
      "text/html": [
       "<div>\n",
       "<style scoped>\n",
       "    .dataframe tbody tr th:only-of-type {\n",
       "        vertical-align: middle;\n",
       "    }\n",
       "\n",
       "    .dataframe tbody tr th {\n",
       "        vertical-align: top;\n",
       "    }\n",
       "\n",
       "    .dataframe thead th {\n",
       "        text-align: right;\n",
       "    }\n",
       "</style>\n",
       "<table border=\"1\" class=\"dataframe\">\n",
       "  <thead>\n",
       "    <tr style=\"text-align: right;\">\n",
       "      <th></th>\n",
       "      <th>gene1</th>\n",
       "      <th>gene2</th>\n",
       "    </tr>\n",
       "  </thead>\n",
       "  <tbody>\n",
       "    <tr>\n",
       "      <th>0</th>\n",
       "      <td>9796</td>\n",
       "      <td>56992</td>\n",
       "    </tr>\n",
       "    <tr>\n",
       "      <th>1</th>\n",
       "      <td>7918</td>\n",
       "      <td>9240</td>\n",
       "    </tr>\n",
       "    <tr>\n",
       "      <th>2</th>\n",
       "      <td>8233</td>\n",
       "      <td>23548</td>\n",
       "    </tr>\n",
       "    <tr>\n",
       "      <th>3</th>\n",
       "      <td>4899</td>\n",
       "      <td>11253</td>\n",
       "    </tr>\n",
       "    <tr>\n",
       "      <th>4</th>\n",
       "      <td>5297</td>\n",
       "      <td>8601</td>\n",
       "    </tr>\n",
       "  </tbody>\n",
       "</table>\n",
       "</div>"
      ],
      "text/plain": [
       "   gene1  gene2\n",
       "0   9796  56992\n",
       "1   7918   9240\n",
       "2   8233  23548\n",
       "3   4899  11253\n",
       "4   5297   8601"
      ]
     },
     "execution_count": 85,
     "metadata": {},
     "output_type": "execute_result"
    }
   ],
   "source": [
    "path = root_path + \"/ppi_preprocessed.csv\"\n",
    "ppi_df = pd.read_csv(path)\n",
    "ppi_df = ppi_df.drop([\"Unnamed: 0\"], axis=1)\n",
    "\n",
    "print(ppi_df.shape)\n",
    "ppi_df.head()"
   ]
  },
  {
   "cell_type": "code",
   "execution_count": 86,
   "id": "31291b5c",
   "metadata": {},
   "outputs": [],
   "source": [
    "protein_map = {}\n",
    "protein_count = 0\n",
    "\n",
    "pp_list = []\n",
    "\n",
    "row = list()\n",
    "col = list()"
   ]
  },
  {
   "cell_type": "code",
   "execution_count": 87,
   "id": "f83cf405",
   "metadata": {},
   "outputs": [],
   "source": [
    "for idx in ppi_df.index:\n",
    "    \n",
    "    g1 = ppi_df[\"gene1\"][idx]\n",
    "    g2 = ppi_df[\"gene2\"][idx]\n",
    "#     print(g1, g2)\n",
    "    \n",
    "    if g1 not in protein_map:\n",
    "        protein_map[g1] = protein_count\n",
    "        protein_count += 1\n",
    "    if g2 not in protein_map:\n",
    "        protein_map[g2] = protein_count\n",
    "        protein_count += 1\n",
    "\n",
    "    g1, g2 = protein_map[g1], protein_map[g2]\n",
    "    row.append(g1)\n",
    "    col.append(g2)\n",
    "    \n",
    "    pp_list.append((g1, g2))\n",
    "    \n",
    "adj = sp.coo_matrix((np.ones(len(row)), (row, col)), shape=(protein_count, protein_count))\n",
    "sym_adj = adj + adj.T.multiply(adj.T > adj) - adj.multiply(adj.T > adj)\n",
    "sp.save_npz(save_path + \"ppi-sparse-adj.npz\", sym_adj)"
   ]
  },
  {
   "cell_type": "code",
   "execution_count": 88,
   "id": "7840b0ad",
   "metadata": {},
   "outputs": [
    {
     "data": {
      "text/plain": [
       "327924"
      ]
     },
     "execution_count": 88,
     "metadata": {},
     "output_type": "execute_result"
    }
   ],
   "source": [
    "np.count_nonzero(adj.toarray())"
   ]
  },
  {
   "cell_type": "code",
   "execution_count": 89,
   "id": "90a269da",
   "metadata": {},
   "outputs": [
    {
     "data": {
      "text/plain": [
       "(18505, 18505)"
      ]
     },
     "execution_count": 89,
     "metadata": {},
     "output_type": "execute_result"
    }
   ],
   "source": [
    "adj.toarray().shape"
   ]
  },
  {
   "cell_type": "markdown",
   "id": "55387081",
   "metadata": {},
   "source": [
    "---"
   ]
  },
  {
   "cell_type": "markdown",
   "id": "882f0ed6",
   "metadata": {},
   "source": [
    "### Drug - Protein"
   ]
  },
  {
   "cell_type": "code",
   "execution_count": 90,
   "id": "2c8745ba",
   "metadata": {},
   "outputs": [
    {
     "name": "stdout",
     "output_type": "stream",
     "text": [
      "(22230, 2)\n"
     ]
    },
    {
     "data": {
      "text/html": [
       "<div>\n",
       "<style scoped>\n",
       "    .dataframe tbody tr th:only-of-type {\n",
       "        vertical-align: middle;\n",
       "    }\n",
       "\n",
       "    .dataframe tbody tr th {\n",
       "        vertical-align: top;\n",
       "    }\n",
       "\n",
       "    .dataframe thead th {\n",
       "        text-align: right;\n",
       "    }\n",
       "</style>\n",
       "<table border=\"1\" class=\"dataframe\">\n",
       "  <thead>\n",
       "    <tr style=\"text-align: right;\">\n",
       "      <th></th>\n",
       "      <th>ID</th>\n",
       "      <th>entrez_id</th>\n",
       "    </tr>\n",
       "  </thead>\n",
       "  <tbody>\n",
       "    <tr>\n",
       "      <th>0</th>\n",
       "      <td>DB00001</td>\n",
       "      <td>2147.0</td>\n",
       "    </tr>\n",
       "    <tr>\n",
       "      <th>1</th>\n",
       "      <td>DB00002</td>\n",
       "      <td>1956.0</td>\n",
       "    </tr>\n",
       "    <tr>\n",
       "      <th>2</th>\n",
       "      <td>DB00002</td>\n",
       "      <td>2215.0</td>\n",
       "    </tr>\n",
       "    <tr>\n",
       "      <th>3</th>\n",
       "      <td>DB00002</td>\n",
       "      <td>715.0</td>\n",
       "    </tr>\n",
       "    <tr>\n",
       "      <th>4</th>\n",
       "      <td>DB00002</td>\n",
       "      <td>712.0</td>\n",
       "    </tr>\n",
       "  </tbody>\n",
       "</table>\n",
       "</div>"
      ],
      "text/plain": [
       "        ID  entrez_id\n",
       "0  DB00001     2147.0\n",
       "1  DB00002     1956.0\n",
       "2  DB00002     2215.0\n",
       "3  DB00002      715.0\n",
       "4  DB00002      712.0"
      ]
     },
     "execution_count": 90,
     "metadata": {},
     "output_type": "execute_result"
    }
   ],
   "source": [
    "path = root_path + \"/drug-gene_preprocessed.csv\"\n",
    "drug_gene_df = pd.read_csv(path)\n",
    "drug_gene_df = drug_gene_df.drop([\"Unnamed: 0\"], axis=1)\n",
    "\n",
    "print(drug_gene_df.shape)\n",
    "drug_gene_df.head()"
   ]
  },
  {
   "cell_type": "code",
   "execution_count": 91,
   "id": "d09ac699",
   "metadata": {},
   "outputs": [],
   "source": [
    "drug_map = {}\n",
    "drug_count = 0\n",
    "\n",
    "row = list()\n",
    "col = list()"
   ]
  },
  {
   "cell_type": "code",
   "execution_count": 92,
   "id": "949216cd",
   "metadata": {},
   "outputs": [],
   "source": [
    "for idx in drug_gene_df.index:\n",
    "    \n",
    "    drug = drug_gene_df[\"ID\"][idx]\n",
    "    gene = drug_gene_df[\"entrez_id\"][idx]\n",
    "    \n",
    "    # create drug map\n",
    "    if drug not in drug_map:\n",
    "        drug_map[drug] = drug_count\n",
    "        drug_count += 1\n",
    "    \n",
    "#     # remove proteins that are not in ppi (DONE DURING PRE-PROCESSING)\n",
    "#     if gene not in protein_map:\n",
    "#         continue\n",
    "    \n",
    "    drug, gene = drug_map[drug], protein_map[gene]\n",
    "    row.append(drug)\n",
    "    col.append(gene)\n",
    "    \n",
    "adj = sp.coo_matrix((np.ones(len(row)), (row, col)), shape=(drug_count, protein_count))\n",
    "sp.save_npz(save_path + \"drug-protein-sparse-adj.npz\", adj)"
   ]
  },
  {
   "cell_type": "code",
   "execution_count": 93,
   "id": "92e22a7f",
   "metadata": {},
   "outputs": [
    {
     "data": {
      "text/plain": [
       "22000"
      ]
     },
     "execution_count": 93,
     "metadata": {},
     "output_type": "execute_result"
    }
   ],
   "source": [
    "np.count_nonzero(adj.toarray())"
   ]
  },
  {
   "cell_type": "code",
   "execution_count": 94,
   "id": "a049ec95",
   "metadata": {
    "scrolled": false
   },
   "outputs": [
    {
     "data": {
      "text/plain": [
       "(6158, 18505)"
      ]
     },
     "execution_count": 94,
     "metadata": {},
     "output_type": "execute_result"
    }
   ],
   "source": [
    "adj.toarray().shape"
   ]
  },
  {
   "cell_type": "markdown",
   "id": "178f6035",
   "metadata": {},
   "source": [
    "---"
   ]
  },
  {
   "cell_type": "markdown",
   "id": "9932ab5b",
   "metadata": {},
   "source": [
    "### Disease - Protein"
   ]
  },
  {
   "cell_type": "code",
   "execution_count": 95,
   "id": "5d2e34e0",
   "metadata": {},
   "outputs": [
    {
     "name": "stdout",
     "output_type": "stream",
     "text": [
      "(1448, 1023)\n"
     ]
    },
    {
     "data": {
      "text/html": [
       "<div>\n",
       "<style scoped>\n",
       "    .dataframe tbody tr th:only-of-type {\n",
       "        vertical-align: middle;\n",
       "    }\n",
       "\n",
       "    .dataframe tbody tr th {\n",
       "        vertical-align: top;\n",
       "    }\n",
       "\n",
       "    .dataframe thead th {\n",
       "        text-align: right;\n",
       "    }\n",
       "</style>\n",
       "<table border=\"1\" class=\"dataframe\">\n",
       "  <thead>\n",
       "    <tr style=\"text-align: right;\">\n",
       "      <th></th>\n",
       "      <th>MESHID</th>\n",
       "      <th>1</th>\n",
       "      <th>2</th>\n",
       "      <th>3</th>\n",
       "      <th>4</th>\n",
       "      <th>5</th>\n",
       "      <th>6</th>\n",
       "      <th>7</th>\n",
       "      <th>8</th>\n",
       "      <th>9</th>\n",
       "      <th>...</th>\n",
       "      <th>1013</th>\n",
       "      <th>1014</th>\n",
       "      <th>1015</th>\n",
       "      <th>1016</th>\n",
       "      <th>1017</th>\n",
       "      <th>1018</th>\n",
       "      <th>1019</th>\n",
       "      <th>1020</th>\n",
       "      <th>1021</th>\n",
       "      <th>1022</th>\n",
       "    </tr>\n",
       "  </thead>\n",
       "  <tbody>\n",
       "    <tr>\n",
       "      <th>0</th>\n",
       "      <td>D000012</td>\n",
       "      <td>4547.0</td>\n",
       "      <td>NaN</td>\n",
       "      <td>NaN</td>\n",
       "      <td>NaN</td>\n",
       "      <td>NaN</td>\n",
       "      <td>NaN</td>\n",
       "      <td>NaN</td>\n",
       "      <td>NaN</td>\n",
       "      <td>NaN</td>\n",
       "      <td>...</td>\n",
       "      <td>NaN</td>\n",
       "      <td>NaN</td>\n",
       "      <td>NaN</td>\n",
       "      <td>NaN</td>\n",
       "      <td>NaN</td>\n",
       "      <td>NaN</td>\n",
       "      <td>NaN</td>\n",
       "      <td>NaN</td>\n",
       "      <td>NaN</td>\n",
       "      <td>NaN</td>\n",
       "    </tr>\n",
       "    <tr>\n",
       "      <th>1</th>\n",
       "      <td>D000013</td>\n",
       "      <td>374654.0</td>\n",
       "      <td>NaN</td>\n",
       "      <td>9289.0</td>\n",
       "      <td>5824.0</td>\n",
       "      <td>4000.0</td>\n",
       "      <td>5828.0</td>\n",
       "      <td>3854.0</td>\n",
       "      <td>3852.0</td>\n",
       "      <td>3853.0</td>\n",
       "      <td>...</td>\n",
       "      <td>NaN</td>\n",
       "      <td>NaN</td>\n",
       "      <td>NaN</td>\n",
       "      <td>NaN</td>\n",
       "      <td>NaN</td>\n",
       "      <td>NaN</td>\n",
       "      <td>NaN</td>\n",
       "      <td>NaN</td>\n",
       "      <td>NaN</td>\n",
       "      <td>NaN</td>\n",
       "    </tr>\n",
       "    <tr>\n",
       "      <th>2</th>\n",
       "      <td>D000015</td>\n",
       "      <td>374654.0</td>\n",
       "      <td>1302.0</td>\n",
       "      <td>8626.0</td>\n",
       "      <td>2657.0</td>\n",
       "      <td>5190.0</td>\n",
       "      <td>2138.0</td>\n",
       "      <td>5192.0</td>\n",
       "      <td>5077.0</td>\n",
       "      <td>5824.0</td>\n",
       "      <td>...</td>\n",
       "      <td>NaN</td>\n",
       "      <td>NaN</td>\n",
       "      <td>NaN</td>\n",
       "      <td>NaN</td>\n",
       "      <td>NaN</td>\n",
       "      <td>NaN</td>\n",
       "      <td>NaN</td>\n",
       "      <td>NaN</td>\n",
       "      <td>NaN</td>\n",
       "      <td>NaN</td>\n",
       "    </tr>\n",
       "    <tr>\n",
       "      <th>3</th>\n",
       "      <td>D000052</td>\n",
       "      <td>2261.0</td>\n",
       "      <td>3643.0</td>\n",
       "      <td>NaN</td>\n",
       "      <td>NaN</td>\n",
       "      <td>NaN</td>\n",
       "      <td>NaN</td>\n",
       "      <td>NaN</td>\n",
       "      <td>NaN</td>\n",
       "      <td>NaN</td>\n",
       "      <td>...</td>\n",
       "      <td>NaN</td>\n",
       "      <td>NaN</td>\n",
       "      <td>NaN</td>\n",
       "      <td>NaN</td>\n",
       "      <td>NaN</td>\n",
       "      <td>NaN</td>\n",
       "      <td>NaN</td>\n",
       "      <td>NaN</td>\n",
       "      <td>NaN</td>\n",
       "      <td>NaN</td>\n",
       "    </tr>\n",
       "    <tr>\n",
       "      <th>4</th>\n",
       "      <td>D000130</td>\n",
       "      <td>2261.0</td>\n",
       "      <td>1280.0</td>\n",
       "      <td>NaN</td>\n",
       "      <td>NaN</td>\n",
       "      <td>NaN</td>\n",
       "      <td>NaN</td>\n",
       "      <td>NaN</td>\n",
       "      <td>NaN</td>\n",
       "      <td>NaN</td>\n",
       "      <td>...</td>\n",
       "      <td>NaN</td>\n",
       "      <td>NaN</td>\n",
       "      <td>NaN</td>\n",
       "      <td>NaN</td>\n",
       "      <td>NaN</td>\n",
       "      <td>NaN</td>\n",
       "      <td>NaN</td>\n",
       "      <td>NaN</td>\n",
       "      <td>NaN</td>\n",
       "      <td>NaN</td>\n",
       "    </tr>\n",
       "  </tbody>\n",
       "</table>\n",
       "<p>5 rows × 1023 columns</p>\n",
       "</div>"
      ],
      "text/plain": [
       "    MESHID         1       2       3       4       5       6       7       8  \\\n",
       "0  D000012    4547.0     NaN     NaN     NaN     NaN     NaN     NaN     NaN   \n",
       "1  D000013  374654.0     NaN  9289.0  5824.0  4000.0  5828.0  3854.0  3852.0   \n",
       "2  D000015  374654.0  1302.0  8626.0  2657.0  5190.0  2138.0  5192.0  5077.0   \n",
       "3  D000052    2261.0  3643.0     NaN     NaN     NaN     NaN     NaN     NaN   \n",
       "4  D000130    2261.0  1280.0     NaN     NaN     NaN     NaN     NaN     NaN   \n",
       "\n",
       "        9  ...  1013  1014  1015  1016  1017  1018  1019  1020  1021  1022  \n",
       "0     NaN  ...   NaN   NaN   NaN   NaN   NaN   NaN   NaN   NaN   NaN   NaN  \n",
       "1  3853.0  ...   NaN   NaN   NaN   NaN   NaN   NaN   NaN   NaN   NaN   NaN  \n",
       "2  5824.0  ...   NaN   NaN   NaN   NaN   NaN   NaN   NaN   NaN   NaN   NaN  \n",
       "3     NaN  ...   NaN   NaN   NaN   NaN   NaN   NaN   NaN   NaN   NaN   NaN  \n",
       "4     NaN  ...   NaN   NaN   NaN   NaN   NaN   NaN   NaN   NaN   NaN   NaN  \n",
       "\n",
       "[5 rows x 1023 columns]"
      ]
     },
     "execution_count": 95,
     "metadata": {},
     "output_type": "execute_result"
    }
   ],
   "source": [
    "path = root_path + \"/disease-prot_preprocessed.csv\"\n",
    "disease_prot_df = pd.read_csv(path)\n",
    "disease_prot_df = disease_prot_df.drop([\"Unnamed: 0\"], axis=1)\n",
    "\n",
    "print(disease_prot_df.shape)\n",
    "disease_prot_df.head()"
   ]
  },
  {
   "cell_type": "code",
   "execution_count": 96,
   "id": "07285c65",
   "metadata": {},
   "outputs": [],
   "source": [
    "disease_map = {}\n",
    "disease_count = 0\n",
    "\n",
    "row = list()\n",
    "col = list()\n",
    "X=0"
   ]
  },
  {
   "cell_type": "code",
   "execution_count": 97,
   "id": "9306e1c6",
   "metadata": {
    "scrolled": true
   },
   "outputs": [],
   "source": [
    "for idx in disease_prot_df.index:\n",
    "#     print(X)    \n",
    "    disease = disease_prot_df[\"MESHID\"][idx]\n",
    "#     print(disease)\n",
    "    \n",
    "    # create drug map\n",
    "    if disease not in disease_map:\n",
    "        disease_map[disease] = disease_count\n",
    "        disease_count += 1\n",
    "    \n",
    "#     for i in disease_prot_df.index:\n",
    "    for j in range(1,1023):\n",
    "        prot = disease_prot_df[str(j)][idx]\n",
    "        if(pd.isna(prot) == False):\n",
    "#                 print(prot)\n",
    "            disease_id = disease_map[disease]\n",
    "            prot = protein_map[int(prot)]\n",
    "            row.append(disease_id)\n",
    "            col.append(prot)\n",
    "    X += 1\n",
    "\n",
    "adj = sp.coo_matrix((np.ones(len(row)), (row, col)), \n",
    "                    shape=(disease_count, protein_count))\n",
    "sp.save_npz(save_path + \"disease-prot-sparse-adj.npz\", adj)"
   ]
  },
  {
   "cell_type": "code",
   "execution_count": 98,
   "id": "a67c7ae9",
   "metadata": {},
   "outputs": [
    {
     "data": {
      "text/plain": [
       "29957"
      ]
     },
     "execution_count": 98,
     "metadata": {},
     "output_type": "execute_result"
    }
   ],
   "source": [
    "np.count_nonzero(adj.toarray())"
   ]
  },
  {
   "cell_type": "code",
   "execution_count": 99,
   "id": "249ee3a9",
   "metadata": {
    "scrolled": true
   },
   "outputs": [
    {
     "data": {
      "text/plain": [
       "(1448, 18505)"
      ]
     },
     "execution_count": 99,
     "metadata": {},
     "output_type": "execute_result"
    }
   ],
   "source": [
    "adj.toarray().shape"
   ]
  },
  {
   "cell_type": "markdown",
   "id": "86ad4987",
   "metadata": {},
   "source": [
    "---"
   ]
  },
  {
   "cell_type": "markdown",
   "id": "76ef9da1",
   "metadata": {},
   "source": [
    "### Drug - Disease"
   ]
  },
  {
   "cell_type": "code",
   "execution_count": 100,
   "id": "dde43ad2",
   "metadata": {},
   "outputs": [
    {
     "name": "stdout",
     "output_type": "stream",
     "text": [
      "(195811, 2)\n"
     ]
    },
    {
     "data": {
      "text/html": [
       "<div>\n",
       "<style scoped>\n",
       "    .dataframe tbody tr th:only-of-type {\n",
       "        vertical-align: middle;\n",
       "    }\n",
       "\n",
       "    .dataframe tbody tr th {\n",
       "        vertical-align: top;\n",
       "    }\n",
       "\n",
       "    .dataframe thead th {\n",
       "        text-align: right;\n",
       "    }\n",
       "</style>\n",
       "<table border=\"1\" class=\"dataframe\">\n",
       "  <thead>\n",
       "    <tr style=\"text-align: right;\">\n",
       "      <th></th>\n",
       "      <th># Disease(MESH)</th>\n",
       "      <th>Chemical</th>\n",
       "    </tr>\n",
       "  </thead>\n",
       "  <tbody>\n",
       "    <tr>\n",
       "      <th>0</th>\n",
       "      <td>D005923</td>\n",
       "      <td>DB00564</td>\n",
       "    </tr>\n",
       "    <tr>\n",
       "      <th>1</th>\n",
       "      <td>D009503</td>\n",
       "      <td>DB01072</td>\n",
       "    </tr>\n",
       "    <tr>\n",
       "      <th>2</th>\n",
       "      <td>D001249</td>\n",
       "      <td>DB00814</td>\n",
       "    </tr>\n",
       "    <tr>\n",
       "      <th>3</th>\n",
       "      <td>D001943</td>\n",
       "      <td>DB00300</td>\n",
       "    </tr>\n",
       "    <tr>\n",
       "      <th>4</th>\n",
       "      <td>D001281</td>\n",
       "      <td>DB01394</td>\n",
       "    </tr>\n",
       "  </tbody>\n",
       "</table>\n",
       "</div>"
      ],
      "text/plain": [
       "  # Disease(MESH) Chemical\n",
       "0         D005923  DB00564\n",
       "1         D009503  DB01072\n",
       "2         D001249  DB00814\n",
       "3         D001943  DB00300\n",
       "4         D001281  DB01394"
      ]
     },
     "execution_count": 100,
     "metadata": {},
     "output_type": "execute_result"
    }
   ],
   "source": [
    "path = root_path + \"/disease-drug_preprocessed.csv\"\n",
    "disease_drug_df = pd.read_csv(path)\n",
    "disease_drug_df = disease_drug_df.drop([\"Unnamed: 0\"], axis=1)\n",
    "\n",
    "print(disease_drug_df.shape)\n",
    "disease_drug_df.head()"
   ]
  },
  {
   "cell_type": "code",
   "execution_count": 101,
   "id": "ca7b25b9",
   "metadata": {},
   "outputs": [],
   "source": [
    "row = list()\n",
    "col = list()"
   ]
  },
  {
   "cell_type": "code",
   "execution_count": 102,
   "id": "4593bccc",
   "metadata": {},
   "outputs": [],
   "source": [
    "for idx in disease_drug_df.index:\n",
    "    \n",
    "    disease = disease_drug_df[\"# Disease(MESH)\"][idx]\n",
    "    drug = disease_drug_df[\"Chemical\"][idx]\n",
    "    \n",
    "    \n",
    "#     # remove drugs and diseases that are not in drug and disease map (DONE DURING PRE-PROCESSING)\n",
    "\n",
    "    disease, drug = disease_map[disease], drug_map[drug]\n",
    "    row.append(disease)\n",
    "    col.append(drug)\n",
    "    \n",
    "adj = sp.coo_matrix((np.ones(len(row)), (row, col)), \n",
    "                    shape=(disease_count, drug_count))\n",
    "sp.save_npz(save_path + \"disease-drug-sparse-adj.npz\", adj)"
   ]
  },
  {
   "cell_type": "code",
   "execution_count": 103,
   "id": "2aa7c934",
   "metadata": {},
   "outputs": [
    {
     "data": {
      "text/plain": [
       "195811"
      ]
     },
     "execution_count": 103,
     "metadata": {},
     "output_type": "execute_result"
    }
   ],
   "source": [
    "np.count_nonzero(adj.toarray())"
   ]
  },
  {
   "cell_type": "code",
   "execution_count": 104,
   "id": "9ba66a3f",
   "metadata": {
    "scrolled": false
   },
   "outputs": [
    {
     "data": {
      "text/plain": [
       "(1448, 6158)"
      ]
     },
     "execution_count": 104,
     "metadata": {},
     "output_type": "execute_result"
    }
   ],
   "source": [
    "adj.toarray().shape"
   ]
  },
  {
   "cell_type": "markdown",
   "id": "90bc0926",
   "metadata": {},
   "source": [
    "---"
   ]
  },
  {
   "cell_type": "code",
   "execution_count": 105,
   "id": "4e96ebec",
   "metadata": {},
   "outputs": [],
   "source": [
    "def save_to_pkl(path, obj):\n",
    "    with open(path, 'wb') as ff:\n",
    "        pickle.dump(obj, ff)"
   ]
  },
  {
   "cell_type": "code",
   "execution_count": 106,
   "id": "12b0c925",
   "metadata": {},
   "outputs": [],
   "source": [
    "save_to_pkl(save_path+\"index_map/drug-map.pkl\", drug_map)\n",
    "save_to_pkl(save_path+\"index_map/protein-map.pkl\", protein_map)\n",
    "save_to_pkl(save_path+\"index_map/disease-map.pkl\", disease_map)\n",
    "\n",
    "save_to_pkl(save_path+\"graph_info.pkl\", (protein_count, drug_count, disease_count))"
   ]
  },
  {
   "cell_type": "code",
   "execution_count": null,
   "id": "e874ad7a",
   "metadata": {},
   "outputs": [],
   "source": []
  },
  {
   "cell_type": "code",
   "execution_count": 47,
   "id": "713d1ab6",
   "metadata": {},
   "outputs": [],
   "source": [
    "file = save_path+\"index_map/disease-map.pkl\"\n",
    "with open(file, 'rb') as f:   # the whole dataset\n",
    "    map = pickle.load(f)"
   ]
  },
  {
   "cell_type": "code",
   "execution_count": 54,
   "id": "cf95b5a0",
   "metadata": {},
   "outputs": [
    {
     "data": {
      "text/html": [
       "<div>\n",
       "<style scoped>\n",
       "    .dataframe tbody tr th:only-of-type {\n",
       "        vertical-align: middle;\n",
       "    }\n",
       "\n",
       "    .dataframe tbody tr th {\n",
       "        vertical-align: top;\n",
       "    }\n",
       "\n",
       "    .dataframe thead th {\n",
       "        text-align: right;\n",
       "    }\n",
       "</style>\n",
       "<table border=\"1\" class=\"dataframe\">\n",
       "  <thead>\n",
       "    <tr style=\"text-align: right;\">\n",
       "      <th></th>\n",
       "      <th>MESHID</th>\n",
       "      <th>1</th>\n",
       "      <th>2</th>\n",
       "      <th>3</th>\n",
       "      <th>4</th>\n",
       "      <th>5</th>\n",
       "      <th>6</th>\n",
       "      <th>7</th>\n",
       "      <th>8</th>\n",
       "      <th>9</th>\n",
       "      <th>...</th>\n",
       "      <th>1013</th>\n",
       "      <th>1014</th>\n",
       "      <th>1015</th>\n",
       "      <th>1016</th>\n",
       "      <th>1017</th>\n",
       "      <th>1018</th>\n",
       "      <th>1019</th>\n",
       "      <th>1020</th>\n",
       "      <th>1021</th>\n",
       "      <th>1022</th>\n",
       "    </tr>\n",
       "  </thead>\n",
       "  <tbody>\n",
       "    <tr>\n",
       "      <th>1441</th>\n",
       "      <td>D059327</td>\n",
       "      <td>4920.0</td>\n",
       "      <td>3239.0</td>\n",
       "      <td>8200.0</td>\n",
       "      <td>NaN</td>\n",
       "      <td>NaN</td>\n",
       "      <td>NaN</td>\n",
       "      <td>NaN</td>\n",
       "      <td>NaN</td>\n",
       "      <td>NaN</td>\n",
       "      <td>...</td>\n",
       "      <td>NaN</td>\n",
       "      <td>NaN</td>\n",
       "      <td>NaN</td>\n",
       "      <td>NaN</td>\n",
       "      <td>NaN</td>\n",
       "      <td>NaN</td>\n",
       "      <td>NaN</td>\n",
       "      <td>NaN</td>\n",
       "      <td>NaN</td>\n",
       "      <td>NaN</td>\n",
       "    </tr>\n",
       "  </tbody>\n",
       "</table>\n",
       "<p>1 rows × 1023 columns</p>\n",
       "</div>"
      ],
      "text/plain": [
       "       MESHID       1       2       3   4   5   6   7   8   9  ...  1013  \\\n",
       "1441  D059327  4920.0  3239.0  8200.0 NaN NaN NaN NaN NaN NaN  ...   NaN   \n",
       "\n",
       "      1014  1015  1016  1017  1018  1019  1020  1021  1022  \n",
       "1441   NaN   NaN   NaN   NaN   NaN   NaN   NaN   NaN   NaN  \n",
       "\n",
       "[1 rows x 1023 columns]"
      ]
     },
     "execution_count": 54,
     "metadata": {},
     "output_type": "execute_result"
    }
   ],
   "source": [
    "disease_prot_df[disease_prot_df[\"MESHID\"] == \"D059327\"]"
   ]
  },
  {
   "cell_type": "code",
   "execution_count": 53,
   "id": "dcbc7f7d",
   "metadata": {},
   "outputs": [
    {
     "data": {
      "text/plain": [
       "1441"
      ]
     },
     "execution_count": 53,
     "metadata": {},
     "output_type": "execute_result"
    }
   ],
   "source": [
    "map[\"D059327\"]"
   ]
  },
  {
   "cell_type": "code",
   "execution_count": 38,
   "id": "05a6af98",
   "metadata": {},
   "outputs": [
    {
     "data": {
      "text/plain": [
       "1"
      ]
     },
     "execution_count": 38,
     "metadata": {},
     "output_type": "execute_result"
    }
   ],
   "source": [
    "list(prot_map.keys()).count(10283)"
   ]
  },
  {
   "cell_type": "code",
   "execution_count": 51,
   "id": "eabb70db",
   "metadata": {},
   "outputs": [
    {
     "name": "stdout",
     "output_type": "stream",
     "text": [
      "D059327\n"
     ]
    }
   ],
   "source": [
    "for key in map:\n",
    "    if map[key] == 1441:\n",
    "        print(key)"
   ]
  }
 ],
 "metadata": {
  "kernelspec": {
   "display_name": "Python 3 (ipykernel)",
   "language": "python",
   "name": "python3"
  },
  "language_info": {
   "codemirror_mode": {
    "name": "ipython",
    "version": 3
   },
   "file_extension": ".py",
   "mimetype": "text/x-python",
   "name": "python",
   "nbconvert_exporter": "python",
   "pygments_lexer": "ipython3",
   "version": "3.9.7"
  }
 },
 "nbformat": 4,
 "nbformat_minor": 5
}
