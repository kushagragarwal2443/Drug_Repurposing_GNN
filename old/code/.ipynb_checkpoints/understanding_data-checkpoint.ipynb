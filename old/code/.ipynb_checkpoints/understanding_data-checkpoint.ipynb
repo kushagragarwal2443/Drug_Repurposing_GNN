{
 "cells": [
  {
   "cell_type": "code",
   "execution_count": 2,
   "id": "d74c62ef",
   "metadata": {
    "scrolled": true
   },
   "outputs": [],
   "source": [
    "import pandas as pd\n",
    "import numpy as np\n",
    "import networkx as nx\n",
    "import matplotlib.pyplot as plt"
   ]
  },
  {
   "cell_type": "code",
   "execution_count": 3,
   "id": "dc400789",
   "metadata": {},
   "outputs": [],
   "source": [
    "root_path = \"../data/\""
   ]
  },
  {
   "cell_type": "markdown",
   "id": "ccca8ab9",
   "metadata": {},
   "source": [
    "### PPI"
   ]
  },
  {
   "cell_type": "code",
   "execution_count": 4,
   "id": "f22152a6",
   "metadata": {},
   "outputs": [
    {
     "name": "stdout",
     "output_type": "stream",
     "text": [
      "(327924, 2)\n"
     ]
    },
    {
     "data": {
      "text/html": [
       "<div>\n",
       "<style scoped>\n",
       "    .dataframe tbody tr th:only-of-type {\n",
       "        vertical-align: middle;\n",
       "    }\n",
       "\n",
       "    .dataframe tbody tr th {\n",
       "        vertical-align: top;\n",
       "    }\n",
       "\n",
       "    .dataframe thead th {\n",
       "        text-align: right;\n",
       "    }\n",
       "</style>\n",
       "<table border=\"1\" class=\"dataframe\">\n",
       "  <thead>\n",
       "    <tr style=\"text-align: right;\">\n",
       "      <th></th>\n",
       "      <th>gene1</th>\n",
       "      <th>gene2</th>\n",
       "    </tr>\n",
       "  </thead>\n",
       "  <tbody>\n",
       "    <tr>\n",
       "      <th>0</th>\n",
       "      <td>9796</td>\n",
       "      <td>56992</td>\n",
       "    </tr>\n",
       "    <tr>\n",
       "      <th>1</th>\n",
       "      <td>7918</td>\n",
       "      <td>9240</td>\n",
       "    </tr>\n",
       "    <tr>\n",
       "      <th>2</th>\n",
       "      <td>8233</td>\n",
       "      <td>23548</td>\n",
       "    </tr>\n",
       "    <tr>\n",
       "      <th>3</th>\n",
       "      <td>4899</td>\n",
       "      <td>11253</td>\n",
       "    </tr>\n",
       "    <tr>\n",
       "      <th>4</th>\n",
       "      <td>5297</td>\n",
       "      <td>8601</td>\n",
       "    </tr>\n",
       "  </tbody>\n",
       "</table>\n",
       "</div>"
      ],
      "text/plain": [
       "   gene1  gene2\n",
       "0   9796  56992\n",
       "1   7918   9240\n",
       "2   8233  23548\n",
       "3   4899  11253\n",
       "4   5297   8601"
      ]
     },
     "execution_count": 4,
     "metadata": {},
     "output_type": "execute_result"
    }
   ],
   "source": [
    "path = root_path + \"/ppi_preprocessed.csv\"\n",
    "ppi_df = pd.read_csv(path)\n",
    "ppi_df = ppi_df.drop([\"Unnamed: 0\"], axis=1)\n",
    "\n",
    "print(ppi_df.shape)\n",
    "ppi_df.head()"
   ]
  },
  {
   "cell_type": "code",
   "execution_count": 5,
   "id": "98efea9a",
   "metadata": {},
   "outputs": [
    {
     "data": {
      "text/plain": [
       "18505"
      ]
     },
     "execution_count": 5,
     "metadata": {},
     "output_type": "execute_result"
    }
   ],
   "source": [
    "protein_set_ppi = set(list(ppi_df[\"gene1\"]) + list(ppi_df[\"gene2\"]))\n",
    "len(protein_set_ppi)"
   ]
  },
  {
   "cell_type": "code",
   "execution_count": 6,
   "id": "dd5407e4",
   "metadata": {},
   "outputs": [],
   "source": [
    "pp_list = []\n",
    "\n",
    "for idx in ppi_df.index:\n",
    "    \n",
    "    g1 = ppi_df[\"gene1\"][idx]\n",
    "    g2 = ppi_df[\"gene2\"][idx]\n",
    "    \n",
    "    pp_list.append((g1, g2))"
   ]
  },
  {
   "cell_type": "code",
   "execution_count": 7,
   "id": "80bcbcee",
   "metadata": {},
   "outputs": [
    {
     "data": {
      "text/plain": [
       "327924"
      ]
     },
     "execution_count": 7,
     "metadata": {},
     "output_type": "execute_result"
    }
   ],
   "source": [
    "len(set(pp_list))"
   ]
  },
  {
   "cell_type": "code",
   "execution_count": 8,
   "id": "32ffcda0",
   "metadata": {},
   "outputs": [],
   "source": [
    "G = nx.Graph()\n",
    "G.add_edges_from(pp_list)"
   ]
  },
  {
   "cell_type": "code",
   "execution_count": 9,
   "id": "a9705342",
   "metadata": {},
   "outputs": [
    {
     "data": {
      "text/plain": [
       "(array([1.8455e+04, 4.3000e+01, 6.0000e+00, 0.0000e+00, 0.0000e+00,\n",
       "        0.0000e+00, 0.0000e+00, 0.0000e+00, 0.0000e+00, 1.0000e+00]),\n",
       " array([1.0000e+00, 5.2090e+02, 1.0408e+03, 1.5607e+03, 2.0806e+03,\n",
       "        2.6005e+03, 3.1204e+03, 3.6403e+03, 4.1602e+03, 4.6801e+03,\n",
       "        5.2000e+03]),\n",
       " <BarContainer object of 10 artists>)"
      ]
     },
     "execution_count": 9,
     "metadata": {},
     "output_type": "execute_result"
    },
    {
     "data": {
      "image/png": "[encoded data removed]",
      "text/plain": [
       "<Figure size 432x288 with 1 Axes>"
      ]
     },
     "metadata": {
      "needs_background": "light"
     },
     "output_type": "display_data"
    }
   ],
   "source": [
    "count_degrees = list(dict(G.degree).values())\n",
    "plt.hist(count_degrees)"
   ]
  },
  {
   "cell_type": "code",
   "execution_count": 10,
   "id": "8a191f00",
   "metadata": {},
   "outputs": [
    {
     "data": {
      "text/plain": [
       "1       1343\n",
       "2        970\n",
       "3        812\n",
       "4        646\n",
       "5        627\n",
       "        ... \n",
       "364        1\n",
       "366        1\n",
       "368        1\n",
       "369        1\n",
       "5200       1\n",
       "Length: 417, dtype: int64"
      ]
     },
     "execution_count": 10,
     "metadata": {},
     "output_type": "execute_result"
    }
   ],
   "source": [
    "pd.DataFrame(count_degrees).value_counts()"
   ]
  },
  {
   "cell_type": "markdown",
   "id": "2094f432",
   "metadata": {},
   "source": [
    "---"
   ]
  },
  {
   "cell_type": "markdown",
   "id": "776fb432",
   "metadata": {},
   "source": [
    "### Drug - Protein"
   ]
  },
  {
   "cell_type": "code",
   "execution_count": 11,
   "id": "a563c665",
   "metadata": {
    "scrolled": true
   },
   "outputs": [
    {
     "name": "stdout",
     "output_type": "stream",
     "text": [
      "(24649, 2)\n"
     ]
    },
    {
     "data": {
      "text/html": [
       "<div>\n",
       "<style scoped>\n",
       "    .dataframe tbody tr th:only-of-type {\n",
       "        vertical-align: middle;\n",
       "    }\n",
       "\n",
       "    .dataframe tbody tr th {\n",
       "        vertical-align: top;\n",
       "    }\n",
       "\n",
       "    .dataframe thead th {\n",
       "        text-align: right;\n",
       "    }\n",
       "</style>\n",
       "<table border=\"1\" class=\"dataframe\">\n",
       "  <thead>\n",
       "    <tr style=\"text-align: right;\">\n",
       "      <th></th>\n",
       "      <th>ID</th>\n",
       "      <th>entrez_id</th>\n",
       "    </tr>\n",
       "  </thead>\n",
       "  <tbody>\n",
       "    <tr>\n",
       "      <th>0</th>\n",
       "      <td>DB00001</td>\n",
       "      <td>2147.0</td>\n",
       "    </tr>\n",
       "    <tr>\n",
       "      <th>1</th>\n",
       "      <td>DB00002</td>\n",
       "      <td>1956.0</td>\n",
       "    </tr>\n",
       "    <tr>\n",
       "      <th>2</th>\n",
       "      <td>DB00002</td>\n",
       "      <td>2215.0</td>\n",
       "    </tr>\n",
       "    <tr>\n",
       "      <th>3</th>\n",
       "      <td>DB00002</td>\n",
       "      <td>715.0</td>\n",
       "    </tr>\n",
       "    <tr>\n",
       "      <th>4</th>\n",
       "      <td>DB00002</td>\n",
       "      <td>712.0</td>\n",
       "    </tr>\n",
       "    <tr>\n",
       "      <th>...</th>\n",
       "      <td>...</td>\n",
       "      <td>...</td>\n",
       "    </tr>\n",
       "    <tr>\n",
       "      <th>24644</th>\n",
       "      <td>Thymosin</td>\n",
       "      <td>7132.0</td>\n",
       "    </tr>\n",
       "    <tr>\n",
       "      <th>24645</th>\n",
       "      <td>Thymosin</td>\n",
       "      <td>7133.0</td>\n",
       "    </tr>\n",
       "    <tr>\n",
       "      <th>24646</th>\n",
       "      <td>Thymosin</td>\n",
       "      <td>5757.0</td>\n",
       "    </tr>\n",
       "    <tr>\n",
       "      <th>24647</th>\n",
       "      <td>Tocilizumab</td>\n",
       "      <td>1.0</td>\n",
       "    </tr>\n",
       "    <tr>\n",
       "      <th>24648</th>\n",
       "      <td>DB00874</td>\n",
       "      <td>1.0</td>\n",
       "    </tr>\n",
       "  </tbody>\n",
       "</table>\n",
       "<p>24649 rows × 2 columns</p>\n",
       "</div>"
      ],
      "text/plain": [
       "                ID  entrez_id\n",
       "0          DB00001     2147.0\n",
       "1          DB00002     1956.0\n",
       "2          DB00002     2215.0\n",
       "3          DB00002      715.0\n",
       "4          DB00002      712.0\n",
       "...            ...        ...\n",
       "24644     Thymosin     7132.0\n",
       "24645     Thymosin     7133.0\n",
       "24646     Thymosin     5757.0\n",
       "24647  Tocilizumab        1.0\n",
       "24648      DB00874        1.0\n",
       "\n",
       "[24649 rows x 2 columns]"
      ]
     },
     "execution_count": 11,
     "metadata": {},
     "output_type": "execute_result"
    }
   ],
   "source": [
    "path = root_path + \"/drug-gene.csv\"\n",
    "drug_gene_df = pd.read_csv(path)\n",
    "drug_gene_df = drug_gene_df.drop([\"Unnamed: 0\"], axis=1)\n",
    "\n",
    "print(drug_gene_df.shape)\n",
    "drug_gene_df"
   ]
  },
  {
   "cell_type": "code",
   "execution_count": 12,
   "id": "683378c8",
   "metadata": {},
   "outputs": [
    {
     "name": "stdout",
     "output_type": "stream",
     "text": [
      "6253\n",
      "6194\n",
      "59\n"
     ]
    }
   ],
   "source": [
    "all_drug = set(drug_gene_df[\"ID\"])\n",
    "print(len(all_drug))\n",
    "\n",
    "drug_withDB = set(filter(lambda x: x.startswith(\"DB\"), list(drug_gene_df[\"ID\"])))\n",
    "print(len(drug_withDB))\n",
    "\n",
    "drug_withoutDB = all_drug - drug_withDB\n",
    "print(len(drug_withoutDB))"
   ]
  },
  {
   "cell_type": "code",
   "execution_count": 13,
   "id": "42257ad0",
   "metadata": {},
   "outputs": [
    {
     "name": "stdout",
     "output_type": "stream",
     "text": [
      "(22230, 2)\n"
     ]
    },
    {
     "data": {
      "text/html": [
       "<div>\n",
       "<style scoped>\n",
       "    .dataframe tbody tr th:only-of-type {\n",
       "        vertical-align: middle;\n",
       "    }\n",
       "\n",
       "    .dataframe tbody tr th {\n",
       "        vertical-align: top;\n",
       "    }\n",
       "\n",
       "    .dataframe thead th {\n",
       "        text-align: right;\n",
       "    }\n",
       "</style>\n",
       "<table border=\"1\" class=\"dataframe\">\n",
       "  <thead>\n",
       "    <tr style=\"text-align: right;\">\n",
       "      <th></th>\n",
       "      <th>ID</th>\n",
       "      <th>entrez_id</th>\n",
       "    </tr>\n",
       "  </thead>\n",
       "  <tbody>\n",
       "    <tr>\n",
       "      <th>0</th>\n",
       "      <td>DB00001</td>\n",
       "      <td>2147.0</td>\n",
       "    </tr>\n",
       "    <tr>\n",
       "      <th>1</th>\n",
       "      <td>DB00002</td>\n",
       "      <td>1956.0</td>\n",
       "    </tr>\n",
       "    <tr>\n",
       "      <th>2</th>\n",
       "      <td>DB00002</td>\n",
       "      <td>2215.0</td>\n",
       "    </tr>\n",
       "    <tr>\n",
       "      <th>3</th>\n",
       "      <td>DB00002</td>\n",
       "      <td>715.0</td>\n",
       "    </tr>\n",
       "    <tr>\n",
       "      <th>4</th>\n",
       "      <td>DB00002</td>\n",
       "      <td>712.0</td>\n",
       "    </tr>\n",
       "    <tr>\n",
       "      <th>...</th>\n",
       "      <td>...</td>\n",
       "      <td>...</td>\n",
       "    </tr>\n",
       "    <tr>\n",
       "      <th>24595</th>\n",
       "      <td>DB04219</td>\n",
       "      <td>79054.0</td>\n",
       "    </tr>\n",
       "    <tr>\n",
       "      <th>24596</th>\n",
       "      <td>DB09022</td>\n",
       "      <td>3757.0</td>\n",
       "    </tr>\n",
       "    <tr>\n",
       "      <th>24605</th>\n",
       "      <td>DB00873</td>\n",
       "      <td>2950.0</td>\n",
       "    </tr>\n",
       "    <tr>\n",
       "      <th>24606</th>\n",
       "      <td>DB00873</td>\n",
       "      <td>4609.0</td>\n",
       "    </tr>\n",
       "    <tr>\n",
       "      <th>24648</th>\n",
       "      <td>DB00874</td>\n",
       "      <td>1.0</td>\n",
       "    </tr>\n",
       "  </tbody>\n",
       "</table>\n",
       "<p>22230 rows × 2 columns</p>\n",
       "</div>"
      ],
      "text/plain": [
       "            ID  entrez_id\n",
       "0      DB00001     2147.0\n",
       "1      DB00002     1956.0\n",
       "2      DB00002     2215.0\n",
       "3      DB00002      715.0\n",
       "4      DB00002      712.0\n",
       "...        ...        ...\n",
       "24595  DB04219    79054.0\n",
       "24596  DB09022     3757.0\n",
       "24605  DB00873     2950.0\n",
       "24606  DB00873     4609.0\n",
       "24648  DB00874        1.0\n",
       "\n",
       "[22230 rows x 2 columns]"
      ]
     },
     "execution_count": 13,
     "metadata": {},
     "output_type": "execute_result"
    }
   ],
   "source": [
    "# removing drug without DB IDs\n",
    "drug_gene_df = drug_gene_df[drug_gene_df[\"ID\"].isin(drug_withDB)]\n",
    "\n",
    "# removing proteins not in PPI\n",
    "drug_gene_df = drug_gene_df[drug_gene_df[\"entrez_id\"].isin(protein_set_ppi)]\n",
    "\n",
    "print(drug_gene_df.shape)\n",
    "drug_gene_df"
   ]
  },
  {
   "cell_type": "code",
   "execution_count": 14,
   "id": "b4ae98e0",
   "metadata": {},
   "outputs": [],
   "source": [
    "dp_list = [] \n",
    "for idx in drug_gene_df.index:\n",
    "    \n",
    "    d = drug_gene_df[\"ID\"][idx]\n",
    "    p = drug_gene_df[\"entrez_id\"][idx]\n",
    "    \n",
    "    dp_list.append((d, p))"
   ]
  },
  {
   "cell_type": "code",
   "execution_count": 15,
   "id": "cc44953f",
   "metadata": {},
   "outputs": [
    {
     "data": {
      "text/plain": [
       "22000"
      ]
     },
     "execution_count": 15,
     "metadata": {},
     "output_type": "execute_result"
    }
   ],
   "source": [
    "len(set(dp_list))"
   ]
  },
  {
   "cell_type": "code",
   "execution_count": 16,
   "id": "dc5098d0",
   "metadata": {},
   "outputs": [
    {
     "name": "stdout",
     "output_type": "stream",
     "text": [
      "6158\n"
     ]
    },
    {
     "data": {
      "text/plain": [
       "2850"
      ]
     },
     "execution_count": 16,
     "metadata": {},
     "output_type": "execute_result"
    }
   ],
   "source": [
    "drug_set_dg = set(drug_gene_df[\"ID\"])\n",
    "print(len(drug_set_dg))\n",
    "\n",
    "protein_set_dg = set(drug_gene_df[\"entrez_id\"])\n",
    "len(protein_set_dg)"
   ]
  },
  {
   "cell_type": "code",
   "execution_count": 17,
   "id": "803996fb",
   "metadata": {},
   "outputs": [],
   "source": [
    "path = root_path + \"/drug-gene_preprocessed.csv\"\n",
    "drug_gene_df.to_csv(path)"
   ]
  },
  {
   "cell_type": "markdown",
   "id": "b257fad5",
   "metadata": {},
   "source": [
    "---"
   ]
  },
  {
   "cell_type": "markdown",
   "id": "8b6380ad",
   "metadata": {},
   "source": [
    "### Disease - Protein"
   ]
  },
  {
   "cell_type": "code",
   "execution_count": 18,
   "id": "0468d817",
   "metadata": {
    "scrolled": true
   },
   "outputs": [
    {
     "name": "stdout",
     "output_type": "stream",
     "text": [
      "(1448, 1023)\n"
     ]
    },
    {
     "data": {
      "text/html": [
       "<div>\n",
       "<style scoped>\n",
       "    .dataframe tbody tr th:only-of-type {\n",
       "        vertical-align: middle;\n",
       "    }\n",
       "\n",
       "    .dataframe tbody tr th {\n",
       "        vertical-align: top;\n",
       "    }\n",
       "\n",
       "    .dataframe thead th {\n",
       "        text-align: right;\n",
       "    }\n",
       "</style>\n",
       "<table border=\"1\" class=\"dataframe\">\n",
       "  <thead>\n",
       "    <tr style=\"text-align: right;\">\n",
       "      <th></th>\n",
       "      <th>MESHID</th>\n",
       "      <th>1</th>\n",
       "      <th>2</th>\n",
       "      <th>3</th>\n",
       "      <th>4</th>\n",
       "      <th>5</th>\n",
       "      <th>6</th>\n",
       "      <th>7</th>\n",
       "      <th>8</th>\n",
       "      <th>9</th>\n",
       "      <th>...</th>\n",
       "      <th>1013</th>\n",
       "      <th>1014</th>\n",
       "      <th>1015</th>\n",
       "      <th>1016</th>\n",
       "      <th>1017</th>\n",
       "      <th>1018</th>\n",
       "      <th>1019</th>\n",
       "      <th>1020</th>\n",
       "      <th>1021</th>\n",
       "      <th>1022</th>\n",
       "    </tr>\n",
       "  </thead>\n",
       "  <tbody>\n",
       "    <tr>\n",
       "      <th>0</th>\n",
       "      <td>D000012</td>\n",
       "      <td>4547</td>\n",
       "      <td>NaN</td>\n",
       "      <td>NaN</td>\n",
       "      <td>NaN</td>\n",
       "      <td>NaN</td>\n",
       "      <td>NaN</td>\n",
       "      <td>NaN</td>\n",
       "      <td>NaN</td>\n",
       "      <td>NaN</td>\n",
       "      <td>...</td>\n",
       "      <td>NaN</td>\n",
       "      <td>NaN</td>\n",
       "      <td>NaN</td>\n",
       "      <td>NaN</td>\n",
       "      <td>NaN</td>\n",
       "      <td>NaN</td>\n",
       "      <td>NaN</td>\n",
       "      <td>NaN</td>\n",
       "      <td>NaN</td>\n",
       "      <td>NaN</td>\n",
       "    </tr>\n",
       "    <tr>\n",
       "      <th>1</th>\n",
       "      <td>D000013</td>\n",
       "      <td>374654</td>\n",
       "      <td>5820.0</td>\n",
       "      <td>9289.0</td>\n",
       "      <td>5824.0</td>\n",
       "      <td>4000.0</td>\n",
       "      <td>5828.0</td>\n",
       "      <td>3854.0</td>\n",
       "      <td>3852.0</td>\n",
       "      <td>3853.0</td>\n",
       "      <td>...</td>\n",
       "      <td>NaN</td>\n",
       "      <td>NaN</td>\n",
       "      <td>NaN</td>\n",
       "      <td>NaN</td>\n",
       "      <td>NaN</td>\n",
       "      <td>NaN</td>\n",
       "      <td>NaN</td>\n",
       "      <td>NaN</td>\n",
       "      <td>NaN</td>\n",
       "      <td>NaN</td>\n",
       "    </tr>\n",
       "    <tr>\n",
       "      <th>2</th>\n",
       "      <td>D000015</td>\n",
       "      <td>374654</td>\n",
       "      <td>1302.0</td>\n",
       "      <td>8626.0</td>\n",
       "      <td>2657.0</td>\n",
       "      <td>5190.0</td>\n",
       "      <td>2138.0</td>\n",
       "      <td>5192.0</td>\n",
       "      <td>5077.0</td>\n",
       "      <td>5824.0</td>\n",
       "      <td>...</td>\n",
       "      <td>NaN</td>\n",
       "      <td>NaN</td>\n",
       "      <td>NaN</td>\n",
       "      <td>NaN</td>\n",
       "      <td>NaN</td>\n",
       "      <td>NaN</td>\n",
       "      <td>NaN</td>\n",
       "      <td>NaN</td>\n",
       "      <td>NaN</td>\n",
       "      <td>NaN</td>\n",
       "    </tr>\n",
       "    <tr>\n",
       "      <th>3</th>\n",
       "      <td>D000052</td>\n",
       "      <td>2261</td>\n",
       "      <td>3643.0</td>\n",
       "      <td>NaN</td>\n",
       "      <td>NaN</td>\n",
       "      <td>NaN</td>\n",
       "      <td>NaN</td>\n",
       "      <td>NaN</td>\n",
       "      <td>NaN</td>\n",
       "      <td>NaN</td>\n",
       "      <td>...</td>\n",
       "      <td>NaN</td>\n",
       "      <td>NaN</td>\n",
       "      <td>NaN</td>\n",
       "      <td>NaN</td>\n",
       "      <td>NaN</td>\n",
       "      <td>NaN</td>\n",
       "      <td>NaN</td>\n",
       "      <td>NaN</td>\n",
       "      <td>NaN</td>\n",
       "      <td>NaN</td>\n",
       "    </tr>\n",
       "    <tr>\n",
       "      <th>4</th>\n",
       "      <td>D000130</td>\n",
       "      <td>2261</td>\n",
       "      <td>1280.0</td>\n",
       "      <td>NaN</td>\n",
       "      <td>NaN</td>\n",
       "      <td>NaN</td>\n",
       "      <td>NaN</td>\n",
       "      <td>NaN</td>\n",
       "      <td>NaN</td>\n",
       "      <td>NaN</td>\n",
       "      <td>...</td>\n",
       "      <td>NaN</td>\n",
       "      <td>NaN</td>\n",
       "      <td>NaN</td>\n",
       "      <td>NaN</td>\n",
       "      <td>NaN</td>\n",
       "      <td>NaN</td>\n",
       "      <td>NaN</td>\n",
       "      <td>NaN</td>\n",
       "      <td>NaN</td>\n",
       "      <td>NaN</td>\n",
       "    </tr>\n",
       "    <tr>\n",
       "      <th>...</th>\n",
       "      <td>...</td>\n",
       "      <td>...</td>\n",
       "      <td>...</td>\n",
       "      <td>...</td>\n",
       "      <td>...</td>\n",
       "      <td>...</td>\n",
       "      <td>...</td>\n",
       "      <td>...</td>\n",
       "      <td>...</td>\n",
       "      <td>...</td>\n",
       "      <td>...</td>\n",
       "      <td>...</td>\n",
       "      <td>...</td>\n",
       "      <td>...</td>\n",
       "      <td>...</td>\n",
       "      <td>...</td>\n",
       "      <td>...</td>\n",
       "      <td>...</td>\n",
       "      <td>...</td>\n",
       "      <td>...</td>\n",
       "      <td>...</td>\n",
       "    </tr>\n",
       "    <tr>\n",
       "      <th>1443</th>\n",
       "      <td>D059446</td>\n",
       "      <td>7405</td>\n",
       "      <td>4838.0</td>\n",
       "      <td>55997.0</td>\n",
       "      <td>7547.0</td>\n",
       "      <td>NaN</td>\n",
       "      <td>NaN</td>\n",
       "      <td>NaN</td>\n",
       "      <td>NaN</td>\n",
       "      <td>NaN</td>\n",
       "      <td>...</td>\n",
       "      <td>NaN</td>\n",
       "      <td>NaN</td>\n",
       "      <td>NaN</td>\n",
       "      <td>NaN</td>\n",
       "      <td>NaN</td>\n",
       "      <td>NaN</td>\n",
       "      <td>NaN</td>\n",
       "      <td>NaN</td>\n",
       "      <td>NaN</td>\n",
       "      <td>NaN</td>\n",
       "    </tr>\n",
       "    <tr>\n",
       "      <th>1444</th>\n",
       "      <td>D061085</td>\n",
       "      <td>374654</td>\n",
       "      <td>2736.0</td>\n",
       "      <td>6496.0</td>\n",
       "      <td>6469.0</td>\n",
       "      <td>3476.0</td>\n",
       "      <td>7050.0</td>\n",
       "      <td>5727.0</td>\n",
       "      <td>3897.0</td>\n",
       "      <td>9990.0</td>\n",
       "      <td>...</td>\n",
       "      <td>NaN</td>\n",
       "      <td>NaN</td>\n",
       "      <td>NaN</td>\n",
       "      <td>NaN</td>\n",
       "      <td>NaN</td>\n",
       "      <td>NaN</td>\n",
       "      <td>NaN</td>\n",
       "      <td>NaN</td>\n",
       "      <td>NaN</td>\n",
       "      <td>NaN</td>\n",
       "    </tr>\n",
       "    <tr>\n",
       "      <th>1445</th>\n",
       "      <td>D061325</td>\n",
       "      <td>675</td>\n",
       "      <td>5892.0</td>\n",
       "      <td>5889.0</td>\n",
       "      <td>672.0</td>\n",
       "      <td>NaN</td>\n",
       "      <td>NaN</td>\n",
       "      <td>NaN</td>\n",
       "      <td>NaN</td>\n",
       "      <td>NaN</td>\n",
       "      <td>...</td>\n",
       "      <td>NaN</td>\n",
       "      <td>NaN</td>\n",
       "      <td>NaN</td>\n",
       "      <td>NaN</td>\n",
       "      <td>NaN</td>\n",
       "      <td>NaN</td>\n",
       "      <td>NaN</td>\n",
       "      <td>NaN</td>\n",
       "      <td>NaN</td>\n",
       "      <td>NaN</td>\n",
       "    </tr>\n",
       "    <tr>\n",
       "      <th>1446</th>\n",
       "      <td>D000086382</td>\n",
       "      <td>8546</td>\n",
       "      <td>23476.0</td>\n",
       "      <td>6046.0</td>\n",
       "      <td>10283.0</td>\n",
       "      <td>124245.0</td>\n",
       "      <td>57153.0</td>\n",
       "      <td>9512.0</td>\n",
       "      <td>10897.0</td>\n",
       "      <td>481.0</td>\n",
       "      <td>...</td>\n",
       "      <td>NaN</td>\n",
       "      <td>NaN</td>\n",
       "      <td>NaN</td>\n",
       "      <td>NaN</td>\n",
       "      <td>NaN</td>\n",
       "      <td>NaN</td>\n",
       "      <td>NaN</td>\n",
       "      <td>NaN</td>\n",
       "      <td>NaN</td>\n",
       "      <td>NaN</td>\n",
       "    </tr>\n",
       "    <tr>\n",
       "      <th>1447</th>\n",
       "      <td>D002908</td>\n",
       "      <td>6046</td>\n",
       "      <td>NaN</td>\n",
       "      <td>NaN</td>\n",
       "      <td>NaN</td>\n",
       "      <td>NaN</td>\n",
       "      <td>NaN</td>\n",
       "      <td>NaN</td>\n",
       "      <td>NaN</td>\n",
       "      <td>NaN</td>\n",
       "      <td>...</td>\n",
       "      <td>NaN</td>\n",
       "      <td>NaN</td>\n",
       "      <td>NaN</td>\n",
       "      <td>NaN</td>\n",
       "      <td>NaN</td>\n",
       "      <td>NaN</td>\n",
       "      <td>NaN</td>\n",
       "      <td>NaN</td>\n",
       "      <td>NaN</td>\n",
       "      <td>NaN</td>\n",
       "    </tr>\n",
       "  </tbody>\n",
       "</table>\n",
       "<p>1448 rows × 1023 columns</p>\n",
       "</div>"
      ],
      "text/plain": [
       "          MESHID       1        2        3        4         5        6  \\\n",
       "0        D000012    4547      NaN      NaN      NaN       NaN      NaN   \n",
       "1        D000013  374654   5820.0   9289.0   5824.0    4000.0   5828.0   \n",
       "2        D000015  374654   1302.0   8626.0   2657.0    5190.0   2138.0   \n",
       "3        D000052    2261   3643.0      NaN      NaN       NaN      NaN   \n",
       "4        D000130    2261   1280.0      NaN      NaN       NaN      NaN   \n",
       "...          ...     ...      ...      ...      ...       ...      ...   \n",
       "1443     D059446    7405   4838.0  55997.0   7547.0       NaN      NaN   \n",
       "1444     D061085  374654   2736.0   6496.0   6469.0    3476.0   7050.0   \n",
       "1445     D061325     675   5892.0   5889.0    672.0       NaN      NaN   \n",
       "1446  D000086382    8546  23476.0   6046.0  10283.0  124245.0  57153.0   \n",
       "1447     D002908    6046      NaN      NaN      NaN       NaN      NaN   \n",
       "\n",
       "           7        8       9  ...  1013  1014  1015  1016  1017  1018  1019  \\\n",
       "0        NaN      NaN     NaN  ...   NaN   NaN   NaN   NaN   NaN   NaN   NaN   \n",
       "1     3854.0   3852.0  3853.0  ...   NaN   NaN   NaN   NaN   NaN   NaN   NaN   \n",
       "2     5192.0   5077.0  5824.0  ...   NaN   NaN   NaN   NaN   NaN   NaN   NaN   \n",
       "3        NaN      NaN     NaN  ...   NaN   NaN   NaN   NaN   NaN   NaN   NaN   \n",
       "4        NaN      NaN     NaN  ...   NaN   NaN   NaN   NaN   NaN   NaN   NaN   \n",
       "...      ...      ...     ...  ...   ...   ...   ...   ...   ...   ...   ...   \n",
       "1443     NaN      NaN     NaN  ...   NaN   NaN   NaN   NaN   NaN   NaN   NaN   \n",
       "1444  5727.0   3897.0  9990.0  ...   NaN   NaN   NaN   NaN   NaN   NaN   NaN   \n",
       "1445     NaN      NaN     NaN  ...   NaN   NaN   NaN   NaN   NaN   NaN   NaN   \n",
       "1446  9512.0  10897.0   481.0  ...   NaN   NaN   NaN   NaN   NaN   NaN   NaN   \n",
       "1447     NaN      NaN     NaN  ...   NaN   NaN   NaN   NaN   NaN   NaN   NaN   \n",
       "\n",
       "      1020  1021  1022  \n",
       "0      NaN   NaN   NaN  \n",
       "1      NaN   NaN   NaN  \n",
       "2      NaN   NaN   NaN  \n",
       "3      NaN   NaN   NaN  \n",
       "4      NaN   NaN   NaN  \n",
       "...    ...   ...   ...  \n",
       "1443   NaN   NaN   NaN  \n",
       "1444   NaN   NaN   NaN  \n",
       "1445   NaN   NaN   NaN  \n",
       "1446   NaN   NaN   NaN  \n",
       "1447   NaN   NaN   NaN  \n",
       "\n",
       "[1448 rows x 1023 columns]"
      ]
     },
     "execution_count": 18,
     "metadata": {},
     "output_type": "execute_result"
    }
   ],
   "source": [
    "path = root_path + \"/Guney16_preprocessed.csv\"\n",
    "disease_prot_df = pd.read_csv(path)\n",
    "disease_prot_df = disease_prot_df.drop([\"Unnamed: 0\"], axis=1)\n",
    "\n",
    "print(disease_prot_df.shape)\n",
    "disease_prot_df"
   ]
  },
  {
   "cell_type": "code",
   "execution_count": 19,
   "id": "25c7c4a3",
   "metadata": {},
   "outputs": [
    {
     "name": "stdout",
     "output_type": "stream",
     "text": [
      "1448\n"
     ]
    }
   ],
   "source": [
    "disease_set_pdis = set(disease_prot_df[\"MESHID\"])\n",
    "print(len(disease_set_pdis))"
   ]
  },
  {
   "cell_type": "code",
   "execution_count": 20,
   "id": "5695eca4",
   "metadata": {},
   "outputs": [
    {
     "name": "stdout",
     "output_type": "stream",
     "text": [
      "3452\n"
     ]
    }
   ],
   "source": [
    "prot_list = []\n",
    "for i in range(len(disease_prot_df)):\n",
    "    \n",
    "    for j in range(1,1023):\n",
    "        \n",
    "        value = disease_prot_df[str(j)][i]\n",
    "        if(pd.isna(value) == False):\n",
    "            prot_list.append(int(value))\n",
    "            \n",
    "            \n",
    "prot_set_pdis = set(prot_list)\n",
    "print(len(prot_set_pdis))"
   ]
  },
  {
   "cell_type": "code",
   "execution_count": 21,
   "id": "2805042f",
   "metadata": {},
   "outputs": [],
   "source": [
    "# # removing disease not in Disease Set\n",
    "# disease_prot_df = disease_prot_df[disease_prot_df[\"MESHID\"].isin(disease_set_dd)]\n",
    "# disease_set_pdis = set(disease_prot_df[\"MESHID\"])\n",
    "# print(len(disease_set_pdis))"
   ]
  },
  {
   "cell_type": "code",
   "execution_count": 22,
   "id": "00771f43",
   "metadata": {},
   "outputs": [
    {
     "name": "stderr",
     "output_type": "stream",
     "text": [
      "/tmp/ipykernel_106887/4241401320.py:9: SettingWithCopyWarning: \n",
      "A value is trying to be set on a copy of a slice from a DataFrame\n",
      "\n",
      "See the caveats in the documentation: https://pandas.pydata.org/pandas-docs/stable/user_guide/indexing.html#returning-a-view-versus-a-copy\n",
      "  disease_prot_df[str(j)][i] = np.nan\n",
      "/home/shreeya/anaconda3/lib/python3.9/site-packages/pandas/core/indexing.py:1732: SettingWithCopyWarning: \n",
      "A value is trying to be set on a copy of a slice from a DataFrame\n",
      "\n",
      "See the caveats in the documentation: https://pandas.pydata.org/pandas-docs/stable/user_guide/indexing.html#returning-a-view-versus-a-copy\n",
      "  self._setitem_single_block(indexer, value, name)\n"
     ]
    }
   ],
   "source": [
    "prot_list = []\n",
    "for i in disease_prot_df.index:\n",
    "    for j in range(1,1023):\n",
    "        \n",
    "        value = disease_prot_df[str(j)][i]\n",
    "#         print(value)\n",
    "        if(pd.isna(value) == False):\n",
    "            if(value not in protein_set_ppi):\n",
    "                disease_prot_df[str(j)][i] = np.nan\n"
   ]
  },
  {
   "cell_type": "code",
   "execution_count": 23,
   "id": "ff8198b6",
   "metadata": {},
   "outputs": [
    {
     "name": "stdout",
     "output_type": "stream",
     "text": [
      "1448\n"
     ]
    }
   ],
   "source": [
    "disease_set_pdis = set(disease_prot_df[\"MESHID\"])\n",
    "print(len(disease_set_pdis))"
   ]
  },
  {
   "cell_type": "code",
   "execution_count": 24,
   "id": "b30a8896",
   "metadata": {},
   "outputs": [
    {
     "name": "stdout",
     "output_type": "stream",
     "text": [
      "3119\n"
     ]
    }
   ],
   "source": [
    "prot_list = []\n",
    "for i in disease_prot_df.index:\n",
    "    \n",
    "    for j in range(1,1023):\n",
    "        \n",
    "        value = disease_prot_df[str(j)][i]\n",
    "        if(pd.isna(value) == False):\n",
    "            prot_list.append(int(value))\n",
    "            \n",
    "            \n",
    "prot_set_pdis = set(prot_list)\n",
    "print(len(prot_set_pdis))"
   ]
  },
  {
   "cell_type": "code",
   "execution_count": 25,
   "id": "9fecf09a",
   "metadata": {},
   "outputs": [],
   "source": [
    "path = root_path + \"/disease-prot_preprocessed.csv\"\n",
    "disease_prot_df.to_csv(path)"
   ]
  },
  {
   "cell_type": "markdown",
   "id": "55b0be44",
   "metadata": {},
   "source": [
    "### Drug - Disease"
   ]
  },
  {
   "cell_type": "code",
   "execution_count": 26,
   "id": "2f739017",
   "metadata": {},
   "outputs": [
    {
     "name": "stdout",
     "output_type": "stream",
     "text": [
      "(466657, 2)\n"
     ]
    },
    {
     "data": {
      "text/html": [
       "<div>\n",
       "<style scoped>\n",
       "    .dataframe tbody tr th:only-of-type {\n",
       "        vertical-align: middle;\n",
       "    }\n",
       "\n",
       "    .dataframe tbody tr th {\n",
       "        vertical-align: top;\n",
       "    }\n",
       "\n",
       "    .dataframe thead th {\n",
       "        text-align: right;\n",
       "    }\n",
       "</style>\n",
       "<table border=\"1\" class=\"dataframe\">\n",
       "  <thead>\n",
       "    <tr style=\"text-align: right;\">\n",
       "      <th></th>\n",
       "      <th># Disease(MESH)</th>\n",
       "      <th>Chemical</th>\n",
       "    </tr>\n",
       "  </thead>\n",
       "  <tbody>\n",
       "    <tr>\n",
       "      <th>0</th>\n",
       "      <td>D005923</td>\n",
       "      <td>DB00564</td>\n",
       "    </tr>\n",
       "    <tr>\n",
       "      <th>1</th>\n",
       "      <td>D009503</td>\n",
       "      <td>DB01072</td>\n",
       "    </tr>\n",
       "    <tr>\n",
       "      <th>2</th>\n",
       "      <td>D016115</td>\n",
       "      <td>DB01759</td>\n",
       "    </tr>\n",
       "    <tr>\n",
       "      <th>3</th>\n",
       "      <td>D018476</td>\n",
       "      <td>DB00451</td>\n",
       "    </tr>\n",
       "    <tr>\n",
       "      <th>4</th>\n",
       "      <td>C567059</td>\n",
       "      <td>DB00641</td>\n",
       "    </tr>\n",
       "    <tr>\n",
       "      <th>...</th>\n",
       "      <td>...</td>\n",
       "      <td>...</td>\n",
       "    </tr>\n",
       "    <tr>\n",
       "      <th>466652</th>\n",
       "      <td>C565545</td>\n",
       "      <td>DB00482</td>\n",
       "    </tr>\n",
       "    <tr>\n",
       "      <th>466653</th>\n",
       "      <td>D009164</td>\n",
       "      <td>DB00977</td>\n",
       "    </tr>\n",
       "    <tr>\n",
       "      <th>466654</th>\n",
       "      <td>D010518</td>\n",
       "      <td>DB04216</td>\n",
       "    </tr>\n",
       "    <tr>\n",
       "      <th>466655</th>\n",
       "      <td>D002653</td>\n",
       "      <td>DB02701</td>\n",
       "    </tr>\n",
       "    <tr>\n",
       "      <th>466656</th>\n",
       "      <td>D013119</td>\n",
       "      <td>DB04465</td>\n",
       "    </tr>\n",
       "  </tbody>\n",
       "</table>\n",
       "<p>466657 rows × 2 columns</p>\n",
       "</div>"
      ],
      "text/plain": [
       "       # Disease(MESH) Chemical\n",
       "0              D005923  DB00564\n",
       "1              D009503  DB01072\n",
       "2              D016115  DB01759\n",
       "3              D018476  DB00451\n",
       "4              C567059  DB00641\n",
       "...                ...      ...\n",
       "466652         C565545  DB00482\n",
       "466653         D009164  DB00977\n",
       "466654         D010518  DB04216\n",
       "466655         D002653  DB02701\n",
       "466656         D013119  DB04465\n",
       "\n",
       "[466657 rows x 2 columns]"
      ]
     },
     "execution_count": 26,
     "metadata": {},
     "output_type": "execute_result"
    }
   ],
   "source": [
    "path = root_path + \"/original_disease_drug.tsv\"\n",
    "disease_drug_df = pd.read_csv(path, sep=\"\\t\")\n",
    "\n",
    "print(disease_drug_df.shape)\n",
    "disease_drug_df"
   ]
  },
  {
   "cell_type": "code",
   "execution_count": 27,
   "id": "edbf069d",
   "metadata": {},
   "outputs": [
    {
     "name": "stdout",
     "output_type": "stream",
     "text": [
      "1663\n",
      "5536\n"
     ]
    }
   ],
   "source": [
    "drug_set_dd = set(disease_drug_df[\"Chemical\"])\n",
    "print(len(drug_set_dd))\n",
    "\n",
    "disease_set_dd = set(disease_drug_df[\"# Disease(MESH)\"])\n",
    "print(len(disease_set_dd))"
   ]
  },
  {
   "cell_type": "code",
   "execution_count": 28,
   "id": "e24b7c33",
   "metadata": {},
   "outputs": [
    {
     "name": "stdout",
     "output_type": "stream",
     "text": [
      "(195811, 2)\n"
     ]
    },
    {
     "data": {
      "text/html": [
       "<div>\n",
       "<style scoped>\n",
       "    .dataframe tbody tr th:only-of-type {\n",
       "        vertical-align: middle;\n",
       "    }\n",
       "\n",
       "    .dataframe tbody tr th {\n",
       "        vertical-align: top;\n",
       "    }\n",
       "\n",
       "    .dataframe thead th {\n",
       "        text-align: right;\n",
       "    }\n",
       "</style>\n",
       "<table border=\"1\" class=\"dataframe\">\n",
       "  <thead>\n",
       "    <tr style=\"text-align: right;\">\n",
       "      <th></th>\n",
       "      <th># Disease(MESH)</th>\n",
       "      <th>Chemical</th>\n",
       "    </tr>\n",
       "  </thead>\n",
       "  <tbody>\n",
       "    <tr>\n",
       "      <th>0</th>\n",
       "      <td>D005923</td>\n",
       "      <td>DB00564</td>\n",
       "    </tr>\n",
       "    <tr>\n",
       "      <th>1</th>\n",
       "      <td>D009503</td>\n",
       "      <td>DB01072</td>\n",
       "    </tr>\n",
       "    <tr>\n",
       "      <th>8</th>\n",
       "      <td>D001249</td>\n",
       "      <td>DB00814</td>\n",
       "    </tr>\n",
       "    <tr>\n",
       "      <th>12</th>\n",
       "      <td>D001943</td>\n",
       "      <td>DB00300</td>\n",
       "    </tr>\n",
       "    <tr>\n",
       "      <th>16</th>\n",
       "      <td>D001281</td>\n",
       "      <td>DB01394</td>\n",
       "    </tr>\n",
       "    <tr>\n",
       "      <th>...</th>\n",
       "      <td>...</td>\n",
       "      <td>...</td>\n",
       "    </tr>\n",
       "    <tr>\n",
       "      <th>466643</th>\n",
       "      <td>D015228</td>\n",
       "      <td>DB00466</td>\n",
       "    </tr>\n",
       "    <tr>\n",
       "      <th>466644</th>\n",
       "      <td>D003928</td>\n",
       "      <td>DB04348</td>\n",
       "    </tr>\n",
       "    <tr>\n",
       "      <th>466651</th>\n",
       "      <td>D015228</td>\n",
       "      <td>DB00114</td>\n",
       "    </tr>\n",
       "    <tr>\n",
       "      <th>466653</th>\n",
       "      <td>D009164</td>\n",
       "      <td>DB00977</td>\n",
       "    </tr>\n",
       "    <tr>\n",
       "      <th>466654</th>\n",
       "      <td>D010518</td>\n",
       "      <td>DB04216</td>\n",
       "    </tr>\n",
       "  </tbody>\n",
       "</table>\n",
       "<p>195811 rows × 2 columns</p>\n",
       "</div>"
      ],
      "text/plain": [
       "       # Disease(MESH) Chemical\n",
       "0              D005923  DB00564\n",
       "1              D009503  DB01072\n",
       "8              D001249  DB00814\n",
       "12             D001943  DB00300\n",
       "16             D001281  DB01394\n",
       "...                ...      ...\n",
       "466643         D015228  DB00466\n",
       "466644         D003928  DB04348\n",
       "466651         D015228  DB00114\n",
       "466653         D009164  DB00977\n",
       "466654         D010518  DB04216\n",
       "\n",
       "[195811 rows x 2 columns]"
      ]
     },
     "execution_count": 28,
     "metadata": {},
     "output_type": "execute_result"
    }
   ],
   "source": [
    "# removing drug not in Drug Set\n",
    "disease_drug_df = disease_drug_df[disease_drug_df[\"Chemical\"].isin(drug_set_dg)]\n",
    "\n",
    "# removing disease not in Disease Set\n",
    "disease_drug_df = disease_drug_df[disease_drug_df[\"# Disease(MESH)\"].isin(disease_set_pdis)]\n",
    "\n",
    "print(disease_drug_df.shape)\n",
    "disease_drug_df"
   ]
  },
  {
   "cell_type": "code",
   "execution_count": 29,
   "id": "ec03a55b",
   "metadata": {},
   "outputs": [
    {
     "name": "stdout",
     "output_type": "stream",
     "text": [
      "1416\n",
      "1271\n"
     ]
    }
   ],
   "source": [
    "drug_set_dd = set(disease_drug_df[\"Chemical\"])\n",
    "print(len(drug_set_dd))\n",
    "\n",
    "disease_set_dd = set(disease_drug_df[\"# Disease(MESH)\"])\n",
    "print(len(disease_set_dd))"
   ]
  },
  {
   "cell_type": "code",
   "execution_count": 30,
   "id": "d7f47103",
   "metadata": {},
   "outputs": [],
   "source": [
    "path = root_path + \"/disease-drug_preprocessed.csv\"\n",
    "disease_drug_df.to_csv(path)"
   ]
  },
  {
   "cell_type": "markdown",
   "id": "a4db646c",
   "metadata": {},
   "source": [
    "---"
   ]
  },
  {
   "cell_type": "markdown",
   "id": "b58c4be0",
   "metadata": {},
   "source": [
    "### PPI Decagon"
   ]
  },
  {
   "cell_type": "code",
   "execution_count": null,
   "id": "e9b93136",
   "metadata": {},
   "outputs": [],
   "source": [
    "path = root_path + \"/bio-decagon-ppi.csv\"\n",
    "ppi2_df = pd.read_csv(path)\n",
    "\n",
    "print(ppi2_df.shape)\n",
    "ppi2_df.head()"
   ]
  },
  {
   "cell_type": "code",
   "execution_count": null,
   "id": "67e4a866",
   "metadata": {},
   "outputs": [],
   "source": [
    "protein_set_ppi2 = set(list(ppi2_df[\"Gene 1\"]) + list(ppi2_df[\"Gene 2\"]))\n",
    "len(protein_set_ppi2)"
   ]
  },
  {
   "cell_type": "code",
   "execution_count": null,
   "id": "b95d3add",
   "metadata": {},
   "outputs": [],
   "source": [
    "pp2_list = []\n",
    "\n",
    "for idx in ppi2_df.index:\n",
    "    \n",
    "    g1 = ppi2_df[\"Gene 1\"][idx]\n",
    "    g2 = ppi2_df[\"Gene 2\"][idx]\n",
    "    \n",
    "    pp2_list.append((g1, g2))"
   ]
  },
  {
   "cell_type": "code",
   "execution_count": null,
   "id": "ffae67eb",
   "metadata": {},
   "outputs": [],
   "source": [
    "G = nx.Graph()\n",
    "G.add_edges_from(pp2_list)"
   ]
  },
  {
   "cell_type": "code",
   "execution_count": null,
   "id": "19f03cbc",
   "metadata": {},
   "outputs": [],
   "source": [
    "count_degrees = list(dict(G.degree).values())\n",
    "plt.hist(count_degrees)"
   ]
  },
  {
   "cell_type": "code",
   "execution_count": null,
   "id": "d93cb40b",
   "metadata": {},
   "outputs": [],
   "source": [
    "pd.DataFrame(count_degrees).value_counts()"
   ]
  },
  {
   "cell_type": "code",
   "execution_count": null,
   "id": "eb7938a2",
   "metadata": {},
   "outputs": [],
   "source": []
  },
  {
   "cell_type": "markdown",
   "id": "dc2a37aa",
   "metadata": {},
   "source": [
    "---"
   ]
  },
  {
   "cell_type": "code",
   "execution_count": null,
   "id": "b3f3c9f1",
   "metadata": {},
   "outputs": [],
   "source": []
  },
  {
   "cell_type": "code",
   "execution_count": null,
   "id": "1e911f7c",
   "metadata": {},
   "outputs": [],
   "source": [
    "protein_set_ppi"
   ]
  },
  {
   "cell_type": "code",
   "execution_count": null,
   "id": "a75f1264",
   "metadata": {},
   "outputs": [],
   "source": [
    "disease_set_dd\n",
    "drug_set_dd"
   ]
  },
  {
   "cell_type": "code",
   "execution_count": null,
   "id": "fbd17fce",
   "metadata": {},
   "outputs": [],
   "source": [
    "disease_set_pdis\n",
    "prot_set_pdis"
   ]
  },
  {
   "cell_type": "code",
   "execution_count": null,
   "id": "746657a1",
   "metadata": {},
   "outputs": [],
   "source": [
    "drug_set_dg\n",
    "protein_set_dg"
   ]
  },
  {
   "cell_type": "code",
   "execution_count": null,
   "id": "31a4fa9b",
   "metadata": {},
   "outputs": [],
   "source": [
    "protein_set_ppi2"
   ]
  },
  {
   "cell_type": "code",
   "execution_count": null,
   "id": "777e4adc",
   "metadata": {},
   "outputs": [],
   "source": []
  },
  {
   "cell_type": "code",
   "execution_count": null,
   "id": "ddd1ea7c",
   "metadata": {
    "scrolled": true
   },
   "outputs": [],
   "source": [
    "inter_ppi_pdis = protein_set_ppi.intersection(prot_set_pdis)\n",
    "union_ppi_pdis = protein_set_ppi.union(prot_set_pdis)\n",
    "print(len(protein_set_ppi), len(prot_set_pdis), len(inter_ppi_pdis), len(union_ppi_pdis))\n",
    "\n",
    "# remove not 3119"
   ]
  },
  {
   "cell_type": "code",
   "execution_count": null,
   "id": "9aa4d8f7",
   "metadata": {},
   "outputs": [],
   "source": [
    "inter_ppi_dg = protein_set_ppi.intersection(protein_set_dg)\n",
    "union_ppi_dg = protein_set_ppi.union(protein_set_dg)\n",
    "print(len(protein_set_ppi), len(protein_set_dg), len(inter_ppi_dg), len(union_ppi_dg))\n",
    "\n",
    "# remove not 3119"
   ]
  },
  {
   "cell_type": "code",
   "execution_count": null,
   "id": "76c4f6a3",
   "metadata": {},
   "outputs": [],
   "source": [
    "total_intersection = protein_set_ppi.intersection(protein_set_dg.intersection(prot_set_pdis))\n",
    "minor_intersection = protein_set_dg.intersection(prot_set_pdis)\n",
    "print(len(total_intersection), len(minor_intersection))"
   ]
  },
  {
   "cell_type": "code",
   "execution_count": null,
   "id": "9f4ac97d",
   "metadata": {},
   "outputs": [],
   "source": [
    "inter_dd_pdis = disease_set_dd.intersection(disease_set_pdis)\n",
    "union_dd_pdis = disease_set_dd.union(disease_set_pdis)\n",
    "print(len(disease_set_dd), len(disease_set_pdis), len(inter_dd_pdis), len(union_dd_pdis))"
   ]
  },
  {
   "cell_type": "code",
   "execution_count": null,
   "id": "cff54623",
   "metadata": {},
   "outputs": [],
   "source": [
    "inter_dd_dg = drug_set_dd.intersection(drug_set_dg)\n",
    "union_dd_dg = drug_set_dd.union(drug_set_dg)\n",
    "print(len(drug_set_dd), len(drug_set_dg), len(inter_dd_dg), len(union_dd_dg))"
   ]
  },
  {
   "cell_type": "code",
   "execution_count": null,
   "id": "7fa73f0f",
   "metadata": {},
   "outputs": [],
   "source": []
  },
  {
   "cell_type": "code",
   "execution_count": null,
   "id": "4ae21eae",
   "metadata": {},
   "outputs": [],
   "source": []
  },
  {
   "cell_type": "code",
   "execution_count": null,
   "id": "42a0fab1",
   "metadata": {},
   "outputs": [],
   "source": [
    "inter_ppi2_pdis = protein_set_ppi2.intersection(prot_set_pdis)\n",
    "union_ppi2_pdis = protein_set_ppi2.union(prot_set_pdis)\n",
    "print(len(protein_set_ppi2), len(prot_set_pdis), len(inter_ppi2_pdis), len(union_ppi2_pdis))"
   ]
  },
  {
   "cell_type": "code",
   "execution_count": null,
   "id": "b6cb539a",
   "metadata": {},
   "outputs": [],
   "source": [
    "inter_ppi2_dg = protein_set_ppi2.intersection(protein_set_dg)\n",
    "union_ppi2_dg = protein_set_ppi2.union(protein_set_dg)\n",
    "print(len(protein_set_ppi2), len(protein_set_dg), len(inter_ppi2_dg), len(union_ppi2_dg))"
   ]
  },
  {
   "cell_type": "code",
   "execution_count": null,
   "id": "347b12d7",
   "metadata": {},
   "outputs": [],
   "source": [
    "total_intersection = protein_set_ppi2.intersection(protein_set_dg.intersection(prot_set_pdis))\n",
    "minor_intersection = protein_set_dg.intersection(prot_set_pdis)\n",
    "print(len(total_intersection), len(minor_intersection))"
   ]
  }
 ],
 "metadata": {
  "kernelspec": {
   "display_name": "Python 3 (ipykernel)",
   "language": "python",
   "name": "python3"
  },
  "language_info": {
   "codemirror_mode": {
    "name": "ipython",
    "version": 3
   },
   "file_extension": ".py",
   "mimetype": "text/x-python",
   "name": "python",
   "nbconvert_exporter": "python",
   "pygments_lexer": "ipython3",
   "version": "3.9.7"
  }
 },
 "nbformat": 4,
 "nbformat_minor": 5
}
