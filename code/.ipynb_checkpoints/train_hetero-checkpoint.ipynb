{
 "cells": [
  {
   "cell_type": "code",
   "execution_count": 20,
   "id": "a2b7160f-4946-4511-aa84-e94fa65fd6a2",
   "metadata": {},
   "outputs": [
    {
     "name": "stdout",
     "output_type": "stream",
     "text": [
      "2.7.0\n",
      "2.4.1\n"
     ]
    }
   ],
   "source": [
    "import torch_geometric\n",
    "print(torch_geometric.__version__)\n",
    "import torch\n",
    "print(torch.__version__)\n",
    "import pickle\n",
    "import numpy as np\n",
    "import torch.nn.functional as F\n",
    "from torch_geometric.nn import HeteroConv, GraphConv, SAGEConv\n",
    "from sklearn.metrics import roc_auc_score, f1_score, precision_score, recall_score\n",
    "from sklearn.model_selection import train_test_split\n",
    "import pandas as pd\n",
    "import scipy.sparse as sp\n",
    "import torch\n",
    "from torch_geometric.loader import NeighborLoader\n",
    "import torch.nn.functional as F\n",
    "from torch_geometric.data import Data\n",
    "from torch_geometric.utils import train_test_split_edges\n",
    "from torch_geometric.nn import GCNConv, GATConv, SAGEConv, GINConv, HeteroConv, GraphConv, HGTConv, Linear\n",
    "from sklearn.metrics import roc_auc_score, f1_score, precision_score, recall_score, precision_recall_curve, auc\n",
    "from torch.utils.data import random_split\n",
    "from torch_geometric.data import HeteroData\n",
    "import warnings\n",
    "import math\n",
    "import random\n",
    "import torch_geometric.transforms as T\n",
    "from torch_geometric.datasets import DBLP\n",
    "import matplotlib.pyplot as plt\n",
    "warnings.filterwarnings(\"ignore\")"
   ]
  },
  {
   "cell_type": "code",
   "execution_count": 21,
   "id": "79caae75-4ed7-4083-83b2-5fd7414f5822",
   "metadata": {},
   "outputs": [
    {
     "name": "stdout",
     "output_type": "stream",
     "text": [
      "Random seed set as 42\n"
     ]
    }
   ],
   "source": [
    "def seed_everything(seed = 42):\n",
    "    np.random.seed(seed)\n",
    "    random.seed(seed)\n",
    "    torch.manual_seed(seed)\n",
    "    torch.cuda.manual_seed(seed)\n",
    "    torch.backends.cudnn.deterministic = True\n",
    "    torch.backends.cudnn.benchmark = False\n",
    "    print(f\"Random seed set as {seed}\")\n",
    "\n",
    "seed_everything(42)"
   ]
  },
  {
   "cell_type": "code",
   "execution_count": 22,
   "id": "dc37fa4e-4f4f-4204-ab2e-773706880f73",
   "metadata": {},
   "outputs": [],
   "source": [
    "file = '../data/final_data_dict.pkl'\n",
    "with open(file, 'rb') as f:\n",
    "    data = pickle.load(f)"
   ]
  },
  {
   "cell_type": "code",
   "execution_count": 23,
   "id": "d2b4fe2e-9103-46c7-adce-a07f98f4fbca",
   "metadata": {},
   "outputs": [],
   "source": [
    "def generate_negative_pairs(num_diseases, num_drugs, full_pos_edge_index, exclude_disease=1446, num_neg_samples=None):\n",
    "    positive_set = set((disease.item(), drug.item()) for disease, drug in zip(full_pos_edge_index[0], full_pos_edge_index[1]))\n",
    "    all_possible_pairs = [(disease, drug) for disease in range(num_diseases)\n",
    "                          if disease != exclude_disease  # Exclude disease 1446\n",
    "                          for drug in range(num_drugs)]\n",
    "    negative_candidates = [(disease, drug) for disease, drug in all_possible_pairs if (disease, drug) not in positive_set]\n",
    "    if num_neg_samples is None:\n",
    "        num_neg_samples = len(full_pos_edge_index[0])\n",
    "    neg_pairs = random.sample(negative_candidates, num_neg_samples)\n",
    "    neg_pairs = torch.tensor(neg_pairs, dtype=torch.long).t()\n",
    "    return neg_pairs"
   ]
  },
  {
   "cell_type": "code",
   "execution_count": 24,
   "id": "b359a693-f928-48db-aba3-694c30d2d939",
   "metadata": {},
   "outputs": [],
   "source": [
    "def train_test_split_edges(pos_edges, test_size=0.2):\n",
    "    pos_edges_np = pos_edges.cpu().numpy().T\n",
    "    train_edges_np, test_edges_np = train_test_split(pos_edges_np, test_size=test_size)\n",
    "    train_edges = torch.tensor(train_edges_np).T.to(pos_edges.device)\n",
    "    test_edges = torch.tensor(test_edges_np).T.to(pos_edges.device)\n",
    "    return train_edges, test_edges\n",
    "\n",
    "def create_pyg_heterograph_with_splits(data, test_size=0.2):\n",
    "    \n",
    "    graph = HeteroData()\n",
    "\n",
    "    # Add features\n",
    "    drug_feat = torch.tensor(data['d_feat'], dtype=torch.float32)\n",
    "    disease_feat = torch.tensor(data['dis_feat'], dtype=torch.float32)\n",
    "    protein_feat = torch.tensor(data['p_feat'], dtype=torch.float32)\n",
    "    if drug_feat.is_sparse:\n",
    "        drug_feat = drug_feat.to_dense()\n",
    "    if disease_feat.is_sparse:\n",
    "        disease_feat = disease_feat.to_dense()\n",
    "    if protein_feat.is_sparse:\n",
    "        protein_feat = protein_feat.to_dense()\n",
    "    graph['drug'].x = drug_feat\n",
    "    graph['disease'].x = disease_feat\n",
    "    graph['protein'].x = protein_feat\n",
    "\n",
    "    pos_edges = torch.stack([\n",
    "        torch.tensor(data['dd_adj'].row, dtype=torch.long),\n",
    "        torch.tensor(data['dd_adj'].col, dtype=torch.long)\n",
    "    ])\n",
    "    \n",
    "    train_pos_edges, test_pos_edges = train_test_split_edges(pos_edges, test_size)\n",
    "    graph['disease', 'interacts', 'drug'].train_pos_edge_index = train_pos_edges\n",
    "    graph['disease', 'interacts', 'drug'].test_pos_edge_index = test_pos_edges\n",
    "\n",
    "    full_pos_edge_index = torch.cat([train_pos_edges, test_pos_edges], dim=1)\n",
    "    graph['disease', 'interacts', 'drug'].edge_index = full_pos_edge_index\n",
    "\n",
    "    edge_index_dict = {\n",
    "        ('drug', 'interacts', 'protein'): torch.stack([\n",
    "            torch.tensor(data['dp_adj'].row, dtype=torch.long),\n",
    "            torch.tensor(data['dp_adj'].col, dtype=torch.long)\n",
    "        ]),\n",
    "        ('disease', 'interacts', 'protein'): torch.stack([\n",
    "            torch.tensor(data['disp_adj'].row, dtype=torch.long),\n",
    "            torch.tensor(data['disp_adj'].col, dtype=torch.long)\n",
    "        ]),\n",
    "        ('protein', 'interacts', 'protein'): torch.stack([\n",
    "            torch.tensor(data['pp_adj'].row, dtype=torch.long),\n",
    "            torch.tensor(data['pp_adj'].col, dtype=torch.long)\n",
    "        ]),\n",
    "    }\n",
    "\n",
    "    graph = T.ToUndirected()(graph)\n",
    "\n",
    "    # undirected_edge_index_dict = make_graph_edges_undirected(edge_index_dict)\n",
    "\n",
    "    # for edge_type, undirected_edge_index in undirected_edge_index_dict.items():\n",
    "    #     graph[edge_type].edge_index = undirected_edge_index\n",
    "\n",
    "    return graph"
   ]
  },
  {
   "cell_type": "code",
   "execution_count": 32,
   "id": "99edbcf2-31c2-45ea-8a79-1714bdf06cef",
   "metadata": {},
   "outputs": [],
   "source": [
    "class HGT(torch.nn.Module):\n",
    "    def __init__(self, graph, hidden_channels, out_channels, num_heads, num_layers, num_dis, num_drug, num_prot):\n",
    "        super().__init__()\n",
    "\n",
    "        self.lin_dict = torch.nn.ModuleDict()\n",
    "        self.lin_dict[\"disease\"] = Linear(num_dis, hidden_channels)\n",
    "        self.lin_dict[\"drug\"] = Linear(num_drug, hidden_channels)\n",
    "        self.lin_dict[\"protein\"] = Linear(num_prot, hidden_channels)\n",
    "        self.convs = torch.nn.ModuleList()\n",
    "        for _ in range(num_layers):\n",
    "            conv = HGTConv(hidden_channels, hidden_channels, graph.metadata(), num_heads)\n",
    "            self.convs.append(conv)\n",
    "\n",
    "    def forward(self, x_dict, edge_index_dict):\n",
    "        for node_type, x in x_dict.items():\n",
    "            x_dict[node_type] = self.lin_dict[node_type](x).relu_()\n",
    "        for conv in self.convs:\n",
    "            x_dict = conv(x_dict, edge_index_dict)\n",
    "        return x_dict\n",
    "\n",
    "def train_hetero_gnn(graph, model, optimizer, device, num_epochs=100):\n",
    "\n",
    "    loss_curve = []\n",
    "    \n",
    "    for epoch in range(num_epochs):\n",
    "        model.train()\n",
    "        optimizer.zero_grad()\n",
    "        out = model(graph.x_dict, graph.edge_index_dict)\n",
    "        pos_edges = graph['disease', 'interacts', 'drug'].train_pos_edge_index\n",
    "        num_diseases = graph['disease'].x.size(0)\n",
    "        num_drugs = graph['drug'].x.size(0)\n",
    "        full_pos_edge_index = graph['disease', 'interacts', 'drug'].edge_index\n",
    "        neg_edges = generate_negative_pairs(num_diseases, num_drugs, full_pos_edge_index, exclude_disease=1446, num_neg_samples=len(pos_edges[0]))\n",
    "        \n",
    "        pos_score = (out['drug'][pos_edges[1]] * out['disease'][pos_edges[0]]).sum(dim=1)\n",
    "        neg_score = (out['drug'][neg_edges[1]] * out['disease'][neg_edges[0]]).sum(dim=1)\n",
    "        scores = torch.cat([pos_score, neg_score], dim=0)\n",
    "        labels = torch.cat([torch.ones(pos_score.size(0)), torch.zeros(neg_score.size(0))], dim=0).to(device)\n",
    "\n",
    "        # loss = torch.mean(F.softplus(neg_score - pos_score))\n",
    "        loss = F.binary_cross_entropy_with_logits(scores, labels)\n",
    "        loss.backward()\n",
    "        optimizer.step()\n",
    "        loss_curve.append(loss.item())\n",
    "        \n",
    "        if((epoch%5)==0):\n",
    "            print(f\"Epoch {epoch + 1}/{num_epochs}, Loss: {loss.item()}\")\n",
    "            evaluate_model(graph, model, device)\n",
    "            print()\n",
    "\n",
    "    return loss_curve\n",
    "\n",
    "def evaluate_model(graph, model, device):\n",
    "    model.eval()\n",
    "    with torch.no_grad():\n",
    "        out = model(graph.x_dict, graph.edge_index_dict)\n",
    "        num_diseases = graph['disease'].x.size(0)\n",
    "        num_drugs = graph['drug'].x.size(0)\n",
    "\n",
    "        pos_edges = graph['disease', 'interacts', 'drug'].train_pos_edge_index\n",
    "        full_pos_edge_index = graph['disease', 'interacts', 'drug'].edge_index\n",
    "        neg_edges = generate_negative_pairs(num_diseases, num_drugs, full_pos_edge_index, exclude_disease=1446, num_neg_samples=len(pos_edges[0]))\n",
    "        pos_score = (out['drug'][pos_edges[1]] * out['disease'][pos_edges[0]]).sum(dim=1).sigmoid()\n",
    "        neg_score = (out['drug'][neg_edges[1]] * out['disease'][neg_edges[0]]).sum(dim=1).sigmoid()\n",
    "        scores = torch.cat([pos_score, neg_score]).cpu().numpy()\n",
    "        labels = torch.cat([torch.ones(pos_score.size(0)), torch.zeros(neg_score.size(0))]).cpu().numpy()\n",
    "        auc = roc_auc_score(labels, scores)\n",
    "        f1 = f1_score(labels, (scores > 0.5).astype(int))\n",
    "        precision = precision_score(labels, (scores > 0.5).astype(int))\n",
    "        recall = recall_score(labels, (scores > 0.5).astype(int))\n",
    "        print(f\"Train AUC: {auc}, F1: {f1}, Precision: {precision}, Recall: {recall}\")\n",
    "\n",
    "        pos_edges = graph['disease', 'interacts', 'drug'].test_pos_edge_index\n",
    "        full_pos_edge_index = graph['disease', 'interacts', 'drug'].edge_index\n",
    "        neg_edges = generate_negative_pairs(num_diseases, num_drugs, full_pos_edge_index, exclude_disease=1446, num_neg_samples=len(pos_edges[0]))\n",
    "        pos_score = (out['drug'][pos_edges[1]] * out['disease'][pos_edges[0]]).sum(dim=1).sigmoid()\n",
    "        neg_score = (out['drug'][neg_edges[1]] * out['disease'][neg_edges[0]]).sum(dim=1).sigmoid()\n",
    "        scores = torch.cat([pos_score, neg_score]).cpu().numpy()\n",
    "        labels = torch.cat([torch.ones(pos_score.size(0)), torch.zeros(neg_score.size(0))]).cpu().numpy()\n",
    "        auc = roc_auc_score(labels, scores)\n",
    "        f1 = f1_score(labels, (scores > 0.5).astype(int))\n",
    "        precision = precision_score(labels, (scores > 0.5).astype(int))\n",
    "        recall = recall_score(labels, (scores > 0.5).astype(int))\n",
    "        print(f\"Test AUC: {auc}, F1: {f1}, Precision: {precision}, Recall: {recall}\")"
   ]
  },
  {
   "cell_type": "code",
   "execution_count": 33,
   "id": "202fcbb4-01b7-4238-bb1e-65fcf30d0548",
   "metadata": {},
   "outputs": [
    {
     "name": "stdout",
     "output_type": "stream",
     "text": [
      "Epoch 1/50, Loss: 0.6934273838996887\n",
      "Train AUC: 0.933139275841894, F1: 0.0, Precision: 0.0, Recall: 0.0\n",
      "Test AUC: 0.9334922401807222, F1: 0.0, Precision: 0.0, Recall: 0.0\n",
      "\n",
      "Epoch 6/50, Loss: 0.6858938336372375\n",
      "Train AUC: 0.9764944262007228, F1: 0.9037081707752329, Precision: 0.8243317579173075, Recall: 1.0\n",
      "Test AUC: 0.976328663938393, F1: 0.9038172167089776, Precision: 0.8245132385636327, Recall: 1.0\n",
      "\n",
      "Epoch 11/50, Loss: 0.6744640469551086\n",
      "Train AUC: 0.9806574726359539, F1: 0.6885657887950638, Precision: 0.5250479077882333, Recall: 1.0\n",
      "Test AUC: 0.9808364256179642, F1: 0.6883493985221433, Precision: 0.5247963121783876, Recall: 1.0\n",
      "\n",
      "Epoch 16/50, Loss: 0.651584267616272\n",
      "Train AUC: 0.9823521733483143, F1: 0.6888225458076045, Precision: 0.5253465452789354, Recall: 1.0\n",
      "Test AUC: 0.9823434752395738, F1: 0.687682182466935, Precision: 0.5240210666038665, Recall: 1.0\n",
      "\n",
      "Epoch 21/50, Loss: 0.6043485403060913\n",
      "Train AUC: 0.9823197944505709, F1: 0.6885157515477281, Precision: 0.5249897224158578, Recall: 1.0\n",
      "Test AUC: 0.9828969450685691, F1: 0.6884413630162994, Precision: 0.5249032285735731, Recall: 1.0\n",
      "\n",
      "Epoch 26/50, Loss: 0.5375943779945374\n",
      "Train AUC: 0.9821181298187655, F1: 0.9043453629038466, Precision: 0.8253927216523816, Recall: 1.0\n",
      "Test AUC: 0.9822092217723084, F1: 0.9042429392097826, Precision: 0.8252220967279715, Recall: 1.0\n",
      "\n",
      "Epoch 31/50, Loss: 0.5240467190742493\n",
      "Train AUC: 0.9844137617430773, F1: 0.9036386626753262, Precision: 0.8242160972954164, Recall: 1.0\n",
      "Test AUC: 0.9841731296946815, F1: 0.9037504730783787, Precision: 0.8244021556079488, Recall: 1.0\n",
      "\n",
      "Epoch 36/50, Loss: 0.4856252074241638\n",
      "Train AUC: 0.9861420991617621, F1: 0.9039696169495073, Precision: 0.8247669324946647, Recall: 1.0\n",
      "Test AUC: 0.9863517080868491, F1: 0.9050621209880195, Precision: 0.8265876433142529, Recall: 1.0\n",
      "\n",
      "Epoch 41/50, Loss: 0.45822128653526306\n",
      "Train AUC: 0.9871975713989046, F1: 0.9037109513216476, Precision: 0.8243363850173727, Recall: 1.0\n",
      "Test AUC: 0.9869739997990457, F1: 0.9044517732265425, Precision: 0.8255700215866163, Recall: 1.0\n",
      "\n",
      "Epoch 46/50, Loss: 0.412492960691452\n",
      "Train AUC: 0.9872629533577022, F1: 0.9032218385113796, Precision: 0.8235228145730644, Recall: 1.0\n",
      "Test AUC: 0.9876013457672767, F1: 0.9044099987067452, Precision: 0.8255004131464899, Recall: 1.0\n",
      "\n"
     ]
    }
   ],
   "source": [
    "device = torch.device('cuda' if torch.cuda.is_available() else 'cpu')\n",
    "graph = create_pyg_heterograph_with_splits(data, 0.25)\n",
    "\n",
    "hidden_channels = 64\n",
    "out_channels = 4\n",
    "num_heads = 4\n",
    "num_layers = 2\n",
    "epochs = 50\n",
    "\n",
    "n_drug = data['n_drug']\n",
    "n_prot = data['n_prot']\n",
    "n_dis = data['n_dis']\n",
    "\n",
    "model = HGT(graph, hidden_channels, out_channels, num_heads, num_layers, n_dis, n_drug, n_prot)\n",
    "optimizer = torch.optim.Adam(model.parameters(), lr=0.001)\n",
    "\n",
    "loss_curve = train_hetero_gnn(graph, model, optimizer, device, num_epochs=epochs)"
   ]
  },
  {
   "cell_type": "code",
   "execution_count": 34,
   "id": "54b2d4ad-4d14-4e35-9dd5-3ea50352deb5",
   "metadata": {},
   "outputs": [
    {
     "data": {
      "image/png": "[encoded data removed]",
      "text/plain": [
       "<Figure size 500x300 with 1 Axes>"
      ]
     },
     "metadata": {},
     "output_type": "display_data"
    }
   ],
   "source": [
    "plt.figure(figsize=(5,3))\n",
    "plt.plot(range(epochs), loss_curve)\n",
    "plt.xlabel(\"Epochs\")\n",
    "plt.ylabel(\"Loss\")\n",
    "plt.show()"
   ]
  },
  {
   "cell_type": "code",
   "execution_count": 35,
   "id": "f3697bc0-6f30-4eb6-8d87-a8599234e49c",
   "metadata": {},
   "outputs": [
    {
     "name": "stdout",
     "output_type": "stream",
     "text": [
      "Train AUC: 0.9851302286371054, F1: 0.903149628089898, Precision: 0.82340276415015, Recall: 1.0\n",
      "Test AUC: 0.9848654371661125, F1: 0.9031918819188192, Precision: 0.8234730095715511, Recall: 1.0\n"
     ]
    }
   ],
   "source": [
    "evaluate_model(graph, model, device)"
   ]
  },
  {
   "cell_type": "code",
   "execution_count": 36,
   "id": "34e689e6-369a-4d4b-868c-3362f3068671",
   "metadata": {},
   "outputs": [
    {
     "name": "stdout",
     "output_type": "stream",
     "text": [
      "['DB01064', 'DB00947', 'DB01039', 'DB00126', 'DB01234', 'DB00641', 'DB00428', 'DB01645', 'DB00877', 'DB00759', 'DB02656', 'DB00388', 'DB00197', 'DB01030', 'DB00143', 'DB00970', 'DB01229', 'DB00624', 'DB00412', 'DB02546']\n"
     ]
    }
   ],
   "source": [
    "def get_top_hits_for_disease(model, disease_index, graph, top_k=50):\n",
    "    model.eval()\n",
    "    with torch.no_grad():\n",
    "        out = model(graph.x_dict, graph.edge_index_dict)\n",
    "    disease_feature = out['disease'][disease_index]\n",
    "    drug_scores = torch.matmul(out['drug'], disease_feature)\n",
    "    top_drugs = torch.topk(drug_scores, k=top_k).indices\n",
    "    return top_drugs\n",
    "    \n",
    "top_drugs = get_top_hits_for_disease(model, disease_index=1446, graph=graph, top_k=20).numpy()\n",
    "\n",
    "file = \"../data/processed_step2/map_drug.pkl\"\n",
    "with open(file, 'rb') as f:\n",
    "    drug_map = pickle.load(f)\n",
    "    \n",
    "inverse_drug_map = {}\n",
    "for key in drug_map:\n",
    "    value = drug_map[key]\n",
    "    inverse_drug_map[value] = key\n",
    "\n",
    "top_drug_names = []\n",
    "for drug in top_drugs:\n",
    "    top_drug_names.append(inverse_drug_map[drug])\n",
    "print(top_drug_names)\n",
    "# print(top_drugs)"
   ]
  }
 ],
 "metadata": {
  "kernelspec": {
   "display_name": "Python 3 (ipykernel)",
   "language": "python",
   "name": "python3"
  },
  "language_info": {
   "codemirror_mode": {
    "name": "ipython",
    "version": 3
   },
   "file_extension": ".py",
   "mimetype": "text/x-python",
   "name": "python",
   "nbconvert_exporter": "python",
   "pygments_lexer": "ipython3",
   "version": "3.11.7"
  }
 },
 "nbformat": 4,
 "nbformat_minor": 5
}
