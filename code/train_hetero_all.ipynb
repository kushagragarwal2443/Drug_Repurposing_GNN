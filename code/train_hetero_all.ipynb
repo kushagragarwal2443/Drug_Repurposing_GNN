{
 "cells": [
  {
   "cell_type": "code",
   "execution_count": 46,
   "id": "a2b7160f-4946-4511-aa84-e94fa65fd6a2",
   "metadata": {},
   "outputs": [
    {
     "name": "stdout",
     "output_type": "stream",
     "text": [
      "2.7.0\n",
      "2.4.1\n"
     ]
    }
   ],
   "source": [
    "import torch_geometric\n",
    "print(torch_geometric.__version__)\n",
    "import torch\n",
    "print(torch.__version__)\n",
    "import pickle\n",
    "import numpy as np\n",
    "import torch.nn.functional as F\n",
    "from torch_geometric.nn import HeteroConv, GraphConv, SAGEConv\n",
    "from sklearn.metrics import roc_auc_score, f1_score, precision_score, recall_score\n",
    "from sklearn.model_selection import train_test_split\n",
    "import pandas as pd\n",
    "import scipy.sparse as sp\n",
    "import torch\n",
    "from torch_geometric.loader import NeighborLoader\n",
    "import torch.nn.functional as F\n",
    "from torch_geometric.data import Data\n",
    "from torch_geometric.utils import train_test_split_edges\n",
    "from torch_geometric.nn import GCNConv, GATConv, SAGEConv, GINConv, HeteroConv, GraphConv, HGTConv, Linear\n",
    "from sklearn.metrics import roc_auc_score, f1_score, precision_score, recall_score, precision_recall_curve, auc\n",
    "from torch.utils.data import random_split\n",
    "from torch_geometric.data import HeteroData\n",
    "import warnings\n",
    "import math\n",
    "import random\n",
    "import torch_geometric.transforms as T\n",
    "from torch_geometric.datasets import DBLP\n",
    "import matplotlib.pyplot as plt\n",
    "warnings.filterwarnings(\"ignore\")"
   ]
  },
  {
   "cell_type": "code",
   "execution_count": 47,
   "id": "79caae75-4ed7-4083-83b2-5fd7414f5822",
   "metadata": {},
   "outputs": [
    {
     "name": "stdout",
     "output_type": "stream",
     "text": [
      "Random seed set as 42\n"
     ]
    }
   ],
   "source": [
    "def seed_everything(seed = 42):\n",
    "    np.random.seed(seed)\n",
    "    random.seed(seed)\n",
    "    torch.manual_seed(seed)\n",
    "    torch.cuda.manual_seed(seed)\n",
    "    torch.backends.cudnn.deterministic = True\n",
    "    torch.backends.cudnn.benchmark = False\n",
    "    print(f\"Random seed set as {seed}\")\n",
    "\n",
    "seed_everything(42)"
   ]
  },
  {
   "cell_type": "code",
   "execution_count": 48,
   "id": "6c34a5c6-87cb-44a3-91e0-631c96cceb30",
   "metadata": {},
   "outputs": [],
   "source": [
    "# config = dict()\n",
    "# config[\"lr\"] = 0.001\n",
    "# config[\"weight_decay\"] = 5e-3\n",
    "# config[\"epochs\"] = 20\n",
    "# config['train_ratio'] = 0.8\n",
    "# config['val_ratio'] = 0.1\n",
    "# config['test_ratio'] = 0.1\n",
    "# config['hidden_channels'] = 64\n",
    "# config['num_heads'] = 4\n",
    "# config['num_layers'] = 2\n",
    "# config"
   ]
  },
  {
   "cell_type": "code",
   "execution_count": 49,
   "id": "dc37fa4e-4f4f-4204-ab2e-773706880f73",
   "metadata": {},
   "outputs": [],
   "source": [
    "file = '../data/final_data_dict.pkl'\n",
    "with open(file, 'rb') as f:\n",
    "    data = pickle.load(f)"
   ]
  },
  {
   "cell_type": "code",
   "execution_count": 50,
   "id": "d2b4fe2e-9103-46c7-adce-a07f98f4fbca",
   "metadata": {},
   "outputs": [],
   "source": [
    "# def make_edges_undirected(edge_index):\n",
    "#     reverse_edge_index = edge_index.flip([0])\n",
    "#     undirected_edge_index = torch.cat([edge_index, reverse_edge_index], dim=1)\n",
    "#     return torch.unique(undirected_edge_index, dim=1)\n",
    "\n",
    "# def make_graph_edges_undirected(edge_index_dict):\n",
    "#     undirected_edge_index_dict = {}\n",
    "#     for edge_type, edge_index in edge_index_dict.items():\n",
    "#         undirected_edge_index_dict[edge_type] = make_edges_undirected(edge_index)\n",
    "#     return undirected_edge_index_dict\n",
    "\n",
    "def generate_negative_pairs(num_diseases, num_drugs, full_pos_edge_index, exclude_disease=1446, num_neg_samples=None):\n",
    "    positive_set = set((disease.item(), drug.item()) for disease, drug in zip(full_pos_edge_index[0], full_pos_edge_index[1]))\n",
    "    all_possible_pairs = [(disease, drug) for disease in range(num_diseases)\n",
    "                          if disease != exclude_disease  # Exclude disease 1446\n",
    "                          for drug in range(num_drugs)]\n",
    "    negative_candidates = [(disease, drug) for disease, drug in all_possible_pairs if (disease, drug) not in positive_set]\n",
    "    if num_neg_samples is None:\n",
    "        num_neg_samples = len(full_pos_edge_index[0])\n",
    "    neg_pairs = random.sample(negative_candidates, num_neg_samples)\n",
    "    neg_pairs = torch.tensor(neg_pairs, dtype=torch.long).t()\n",
    "    return neg_pairs"
   ]
  },
  {
   "cell_type": "code",
   "execution_count": 51,
   "id": "b359a693-f928-48db-aba3-694c30d2d939",
   "metadata": {},
   "outputs": [],
   "source": [
    "def train_test_split_edges(pos_edges, test_size=0.2):\n",
    "    pos_edges_np = pos_edges.cpu().numpy().T\n",
    "    train_edges_np, test_edges_np = train_test_split(pos_edges_np, test_size=test_size)\n",
    "    train_edges = torch.tensor(train_edges_np).T.to(pos_edges.device)\n",
    "    test_edges = torch.tensor(test_edges_np).T.to(pos_edges.device)\n",
    "    return train_edges, test_edges\n",
    "\n",
    "def create_pyg_heterograph_with_splits(data, test_size=0.2):\n",
    "    \n",
    "    graph = HeteroData()\n",
    "\n",
    "    # Add features\n",
    "    drug_feat = torch.tensor(data['d_feat'], dtype=torch.float32)\n",
    "    disease_feat = torch.tensor(data['dis_feat'], dtype=torch.float32)\n",
    "    protein_feat = torch.tensor(data['p_feat'], dtype=torch.float32)\n",
    "    if drug_feat.is_sparse:\n",
    "        drug_feat = drug_feat.to_dense()\n",
    "    if disease_feat.is_sparse:\n",
    "        disease_feat = disease_feat.to_dense()\n",
    "    if protein_feat.is_sparse:\n",
    "        protein_feat = protein_feat.to_dense()\n",
    "    graph['drug'].x = drug_feat\n",
    "    graph['disease'].x = disease_feat\n",
    "    graph['protein'].x = protein_feat\n",
    "\n",
    "    pos_edges = torch.stack([\n",
    "        torch.tensor(data['dd_adj'].row, dtype=torch.long),\n",
    "        torch.tensor(data['dd_adj'].col, dtype=torch.long)\n",
    "    ])\n",
    "    \n",
    "    train_pos_edges, test_pos_edges = train_test_split_edges(pos_edges, test_size)\n",
    "    graph['disease', 'interacts', 'drug'].train_pos_edge_index = train_pos_edges\n",
    "    graph['disease', 'interacts', 'drug'].test_pos_edge_index = test_pos_edges\n",
    "\n",
    "    full_pos_edge_index = torch.cat([train_pos_edges, test_pos_edges], dim=1)\n",
    "    graph['disease', 'interacts', 'drug'].edge_index = full_pos_edge_index\n",
    "\n",
    "    edge_index_dict = {\n",
    "        ('drug', 'interacts', 'protein'): torch.stack([\n",
    "            torch.tensor(data['dp_adj'].row, dtype=torch.long),\n",
    "            torch.tensor(data['dp_adj'].col, dtype=torch.long)\n",
    "        ]),\n",
    "        ('disease', 'interacts', 'protein'): torch.stack([\n",
    "            torch.tensor(data['disp_adj'].row, dtype=torch.long),\n",
    "            torch.tensor(data['disp_adj'].col, dtype=torch.long)\n",
    "        ]),\n",
    "        ('protein', 'interacts', 'protein'): torch.stack([\n",
    "            torch.tensor(data['pp_adj'].row, dtype=torch.long),\n",
    "            torch.tensor(data['pp_adj'].col, dtype=torch.long)\n",
    "        ]),\n",
    "    }\n",
    "\n",
    "    graph = T.ToUndirected()(graph)\n",
    "\n",
    "    # undirected_edge_index_dict = make_graph_edges_undirected(edge_index_dict)\n",
    "\n",
    "    # for edge_type, undirected_edge_index in undirected_edge_index_dict.items():\n",
    "    #     graph[edge_type].edge_index = undirected_edge_index\n",
    "\n",
    "    return graph"
   ]
  },
  {
   "cell_type": "code",
   "execution_count": 52,
   "id": "99edbcf2-31c2-45ea-8a79-1714bdf06cef",
   "metadata": {},
   "outputs": [],
   "source": [
    "class HGT(torch.nn.Module):\n",
    "    def __init__(self, graph, hidden_channels, out_channels, num_heads, num_layers, num_dis, num_drug, num_prot):\n",
    "        super().__init__()\n",
    "\n",
    "        self.lin_dict = torch.nn.ModuleDict()\n",
    "        self.lin_dict[\"disease\"] = Linear(num_dis, hidden_channels)\n",
    "        self.lin_dict[\"drug\"] = Linear(num_drug, hidden_channels)\n",
    "        self.lin_dict[\"protein\"] = Linear(num_prot, hidden_channels)\n",
    "        self.convs = torch.nn.ModuleList()\n",
    "        for _ in range(num_layers):\n",
    "            conv = HGTConv(hidden_channels, hidden_channels, graph.metadata(), num_heads)\n",
    "            self.convs.append(conv)\n",
    "\n",
    "    def forward(self, x_dict, edge_index_dict):\n",
    "        for node_type, x in x_dict.items():\n",
    "            x_dict[node_type] = self.lin_dict[node_type](x).relu_()\n",
    "        for conv in self.convs:\n",
    "            x_dict = conv(x_dict, edge_index_dict)\n",
    "        return x_dict\n",
    "\n",
    "def train_hetero_gnn(graph, model, optimizer, device, num_epochs=100):\n",
    "\n",
    "    loss_curve = []\n",
    "    \n",
    "    for epoch in range(num_epochs):\n",
    "        model.train()\n",
    "        optimizer.zero_grad()\n",
    "        out = model(graph.x_dict, graph.edge_index_dict)\n",
    "        pos_edges = graph['disease', 'interacts', 'drug'].train_pos_edge_index\n",
    "        num_diseases = graph['disease'].x.size(0)\n",
    "        num_drugs = graph['drug'].x.size(0)\n",
    "        full_pos_edge_index = graph['disease', 'interacts', 'drug'].edge_index\n",
    "        neg_edges = generate_negative_pairs(num_diseases, num_drugs, full_pos_edge_index, exclude_disease=1446, num_neg_samples=len(pos_edges[0]))\n",
    "        pos_score = (out['drug'][pos_edges[1]] * out['disease'][pos_edges[0]]).sum(dim=1)\n",
    "        neg_score = (out['drug'][neg_edges[1]] * out['disease'][neg_edges[0]]).sum(dim=1)\n",
    "        loss = torch.mean(F.softplus(neg_score - pos_score))\n",
    "        loss.backward()\n",
    "        optimizer.step()\n",
    "        loss_curve.append(loss.item())\n",
    "        \n",
    "        if((epoch%5)==0):\n",
    "            print(f\"Epoch {epoch + 1}/{num_epochs}, Loss: {loss.item()}\")\n",
    "\n",
    "    return loss_curve\n",
    "\n",
    "def evaluate_model(graph, model, device):\n",
    "    model.eval()\n",
    "    with torch.no_grad():\n",
    "        out = model(graph.x_dict, graph.edge_index_dict)\n",
    "        num_diseases = graph['disease'].x.size(0)\n",
    "        num_drugs = graph['drug'].x.size(0)\n",
    "\n",
    "        pos_edges = graph['disease', 'interacts', 'drug'].train_pos_edge_index\n",
    "        full_pos_edge_index = graph['disease', 'interacts', 'drug'].edge_index\n",
    "        neg_edges = generate_negative_pairs(num_diseases, num_drugs, full_pos_edge_index, exclude_disease=1446, num_neg_samples=len(pos_edges[0]))\n",
    "        pos_score = (out['drug'][pos_edges[1]] * out['disease'][pos_edges[0]]).sum(dim=1).sigmoid()\n",
    "        neg_score = (out['drug'][neg_edges[1]] * out['disease'][neg_edges[0]]).sum(dim=1).sigmoid()\n",
    "        scores = torch.cat([pos_score, neg_score]).cpu().numpy()\n",
    "        labels = torch.cat([torch.ones(pos_score.size(0)), torch.zeros(neg_score.size(0))]).cpu().numpy()\n",
    "        auc = roc_auc_score(labels, scores)\n",
    "        f1 = f1_score(labels, (scores > 0.5).astype(int))\n",
    "        precision = precision_score(labels, (scores > 0.5).astype(int))\n",
    "        recall = recall_score(labels, (scores > 0.5).astype(int))\n",
    "        print(f\"Train AUC: {auc}, F1: {f1}, Precision: {precision}, Recall: {recall}\")\n",
    "\n",
    "        pos_edges = graph['disease', 'interacts', 'drug'].test_pos_edge_index\n",
    "        full_pos_edge_index = graph['disease', 'interacts', 'drug'].edge_index\n",
    "        neg_edges = generate_negative_pairs(num_diseases, num_drugs, full_pos_edge_index, exclude_disease=1446, num_neg_samples=len(pos_edges[0]))\n",
    "        pos_score = (out['drug'][pos_edges[1]] * out['disease'][pos_edges[0]]).sum(dim=1).sigmoid()\n",
    "        neg_score = (out['drug'][neg_edges[1]] * out['disease'][neg_edges[0]]).sum(dim=1).sigmoid()\n",
    "        scores = torch.cat([pos_score, neg_score]).cpu().numpy()\n",
    "        labels = torch.cat([torch.ones(pos_score.size(0)), torch.zeros(neg_score.size(0))]).cpu().numpy()\n",
    "        auc = roc_auc_score(labels, scores)\n",
    "        f1 = f1_score(labels, (scores > 0.5).astype(int))\n",
    "        precision = precision_score(labels, (scores > 0.5).astype(int))\n",
    "        recall = recall_score(labels, (scores > 0.5).astype(int))\n",
    "        print(f\"Test AUC: {auc}, F1: {f1}, Precision: {precision}, Recall: {recall}\")"
   ]
  },
  {
   "cell_type": "code",
   "execution_count": 56,
   "id": "202fcbb4-01b7-4238-bb1e-65fcf30d0548",
   "metadata": {},
   "outputs": [
    {
     "name": "stdout",
     "output_type": "stream",
     "text": [
      "Epoch 1/10, Loss: 0.6947222948074341\n",
      "Epoch 6/10, Loss: 0.6852288246154785\n"
     ]
    }
   ],
   "source": [
    "device = torch.device('cuda' if torch.cuda.is_available() else 'cpu')\n",
    "graph = create_pyg_heterograph_with_splits(data, 0.2)\n",
    "\n",
    "hidden_channels = 32\n",
    "out_channels = 16\n",
    "num_heads = 4\n",
    "num_layers = 2\n",
    "epochs = 10\n",
    "\n",
    "n_drug = data['n_drug']\n",
    "n_prot = data['n_prot']\n",
    "n_dis = data['n_dis']\n",
    "\n",
    "model = HGT(graph, hidden_channels, out_channels, num_heads, num_layers, n_dis, n_drug, n_prot)\n",
    "optimizer = torch.optim.Adam(model.parameters(), lr=0.001)\n",
    "\n",
    "loss_curve = train_hetero_gnn(graph, model, optimizer, device, num_epochs=epochs)"
   ]
  },
  {
   "cell_type": "code",
   "execution_count": 57,
   "id": "54b2d4ad-4d14-4e35-9dd5-3ea50352deb5",
   "metadata": {},
   "outputs": [
    {
     "data": {
      "image/png": "[encoded data removed]",
      "text/plain": [
       "<Figure size 500x300 with 1 Axes>"
      ]
     },
     "metadata": {},
     "output_type": "display_data"
    }
   ],
   "source": [
    "plt.figure(figsize=(5,3))\n",
    "plt.plot(range(epochs), loss_curve)\n",
    "plt.xlabel(\"Epochs\")\n",
    "plt.ylabel(\"Loss\")\n",
    "plt.show()"
   ]
  },
  {
   "cell_type": "code",
   "execution_count": 58,
   "id": "f3697bc0-6f30-4eb6-8d87-a8599234e49c",
   "metadata": {},
   "outputs": [
    {
     "name": "stdout",
     "output_type": "stream",
     "text": [
      "Train AUC: 0.9763513015874961, F1: 0.6884612595507914, Precision: 0.5249263619273572, Recall: 1.0\n",
      "Test AUC: 0.9764673486967013, F1: 0.6883502654058424, Precision: 0.5247973199329983, Recall: 1.0\n"
     ]
    }
   ],
   "source": [
    "evaluate_model(graph, model, device)"
   ]
  },
  {
   "cell_type": "code",
   "execution_count": 63,
   "id": "34e689e6-369a-4d4b-868c-3362f3068671",
   "metadata": {},
   "outputs": [
    {
     "name": "stdout",
     "output_type": "stream",
     "text": [
      "['DB00939', 'DB01262', 'DB00847', 'DB00184', 'DB00602', 'DB00641', 'DB01182', 'DB03255', 'DB00400', 'DB00472', 'DB00490', 'DB04468', 'DB00593', 'DB00635', 'DB01254', 'DB04209', 'DB00262', 'DB00780', 'DB00284', 'DB00945']\n"
     ]
    }
   ],
   "source": [
    "def get_top_hits_for_disease(model, disease_index, graph, top_k=50):\n",
    "    model.eval()\n",
    "    with torch.no_grad():\n",
    "        out = model(graph.x_dict, graph.edge_index_dict)\n",
    "    disease_feature = out['disease'][disease_index]\n",
    "    drug_scores = torch.matmul(out['drug'], disease_feature)\n",
    "    top_drugs = torch.topk(drug_scores, k=top_k).indices\n",
    "    return top_drugs\n",
    "    \n",
    "top_drugs = get_top_hits_for_disease(model, disease_index=1446, graph=graph, top_k=20).numpy()\n",
    "\n",
    "file = \"../data/processed_step2/map_drug.pkl\"\n",
    "with open(file, 'rb') as f:\n",
    "    drug_map = pickle.load(f)\n",
    "    \n",
    "inverse_drug_map = {}\n",
    "for key in drug_map:\n",
    "    value = drug_map[key]\n",
    "    inverse_drug_map[value] = key\n",
    "\n",
    "top_drug_names = []\n",
    "for drug in top_drugs:\n",
    "    top_drug_names.append(inverse_drug_map[drug])\n",
    "print(top_drug_names)\n",
    "# print(top_drugs)"
   ]
  },
  {
   "cell_type": "code",
   "execution_count": null,
   "id": "b4780605-598a-4e1e-aef9-2e28427b44e4",
   "metadata": {},
   "outputs": [],
   "source": []
  }
 ],
 "metadata": {
  "kernelspec": {
   "display_name": "Python 3 (ipykernel)",
   "language": "python",
   "name": "python3"
  },
  "language_info": {
   "codemirror_mode": {
    "name": "ipython",
    "version": 3
   },
   "file_extension": ".py",
   "mimetype": "text/x-python",
   "name": "python",
   "nbconvert_exporter": "python",
   "pygments_lexer": "ipython3",
   "version": "3.11.7"
  }
 },
 "nbformat": 4,
 "nbformat_minor": 5
}
